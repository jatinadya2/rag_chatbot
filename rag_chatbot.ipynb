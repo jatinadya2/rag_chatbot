{
 "cells": [
  {
   "cell_type": "code",
   "execution_count": 2,
   "metadata": {},
   "outputs": [
    {
     "name": "stdout",
     "output_type": "stream",
     "text": [
      "Requirement already satisfied: spacy in /Library/Frameworks/Python.framework/Versions/3.13/lib/python3.13/site-packages (3.8.7)\n",
      "Requirement already satisfied: spacy-legacy<3.1.0,>=3.0.11 in /Library/Frameworks/Python.framework/Versions/3.13/lib/python3.13/site-packages (from spacy) (3.0.12)\n",
      "Requirement already satisfied: spacy-loggers<2.0.0,>=1.0.0 in /Library/Frameworks/Python.framework/Versions/3.13/lib/python3.13/site-packages (from spacy) (1.0.5)\n",
      "Requirement already satisfied: murmurhash<1.1.0,>=0.28.0 in /Library/Frameworks/Python.framework/Versions/3.13/lib/python3.13/site-packages (from spacy) (1.0.13)\n",
      "Requirement already satisfied: cymem<2.1.0,>=2.0.2 in /Library/Frameworks/Python.framework/Versions/3.13/lib/python3.13/site-packages (from spacy) (2.0.11)\n",
      "Requirement already satisfied: preshed<3.1.0,>=3.0.2 in /Library/Frameworks/Python.framework/Versions/3.13/lib/python3.13/site-packages (from spacy) (3.0.10)\n",
      "Requirement already satisfied: thinc<8.4.0,>=8.3.4 in /Library/Frameworks/Python.framework/Versions/3.13/lib/python3.13/site-packages (from spacy) (8.3.6)\n",
      "Requirement already satisfied: wasabi<1.2.0,>=0.9.1 in /Library/Frameworks/Python.framework/Versions/3.13/lib/python3.13/site-packages (from spacy) (1.1.3)\n",
      "Requirement already satisfied: srsly<3.0.0,>=2.4.3 in /Library/Frameworks/Python.framework/Versions/3.13/lib/python3.13/site-packages (from spacy) (2.5.1)\n",
      "Requirement already satisfied: catalogue<2.1.0,>=2.0.6 in /Library/Frameworks/Python.framework/Versions/3.13/lib/python3.13/site-packages (from spacy) (2.0.10)\n",
      "Requirement already satisfied: weasel<0.5.0,>=0.1.0 in /Library/Frameworks/Python.framework/Versions/3.13/lib/python3.13/site-packages (from spacy) (0.4.1)\n",
      "Requirement already satisfied: typer<1.0.0,>=0.3.0 in /Library/Frameworks/Python.framework/Versions/3.13/lib/python3.13/site-packages (from spacy) (0.15.2)\n",
      "Requirement already satisfied: tqdm<5.0.0,>=4.38.0 in /Library/Frameworks/Python.framework/Versions/3.13/lib/python3.13/site-packages (from spacy) (4.67.1)\n",
      "Requirement already satisfied: numpy>=1.19.0 in /Library/Frameworks/Python.framework/Versions/3.13/lib/python3.13/site-packages (from spacy) (2.2.6)\n",
      "Requirement already satisfied: requests<3.0.0,>=2.13.0 in /Library/Frameworks/Python.framework/Versions/3.13/lib/python3.13/site-packages (from spacy) (2.32.3)\n",
      "Requirement already satisfied: pydantic!=1.8,!=1.8.1,<3.0.0,>=1.7.4 in /Library/Frameworks/Python.framework/Versions/3.13/lib/python3.13/site-packages (from spacy) (2.10.6)\n",
      "Requirement already satisfied: jinja2 in /Library/Frameworks/Python.framework/Versions/3.13/lib/python3.13/site-packages (from spacy) (3.1.5)\n",
      "Requirement already satisfied: setuptools in /Library/Frameworks/Python.framework/Versions/3.13/lib/python3.13/site-packages (from spacy) (76.0.0)\n",
      "Requirement already satisfied: packaging>=20.0 in /Library/Frameworks/Python.framework/Versions/3.13/lib/python3.13/site-packages (from spacy) (24.2)\n",
      "Requirement already satisfied: langcodes<4.0.0,>=3.2.0 in /Library/Frameworks/Python.framework/Versions/3.13/lib/python3.13/site-packages (from spacy) (3.5.0)\n",
      "Requirement already satisfied: language-data>=1.2 in /Library/Frameworks/Python.framework/Versions/3.13/lib/python3.13/site-packages (from langcodes<4.0.0,>=3.2.0->spacy) (1.3.0)\n",
      "Requirement already satisfied: annotated-types>=0.6.0 in /Library/Frameworks/Python.framework/Versions/3.13/lib/python3.13/site-packages (from pydantic!=1.8,!=1.8.1,<3.0.0,>=1.7.4->spacy) (0.7.0)\n",
      "Requirement already satisfied: pydantic-core==2.27.2 in /Library/Frameworks/Python.framework/Versions/3.13/lib/python3.13/site-packages (from pydantic!=1.8,!=1.8.1,<3.0.0,>=1.7.4->spacy) (2.27.2)\n",
      "Requirement already satisfied: typing-extensions>=4.12.2 in /Library/Frameworks/Python.framework/Versions/3.13/lib/python3.13/site-packages (from pydantic!=1.8,!=1.8.1,<3.0.0,>=1.7.4->spacy) (4.12.2)\n",
      "Requirement already satisfied: charset-normalizer<4,>=2 in /Library/Frameworks/Python.framework/Versions/3.13/lib/python3.13/site-packages (from requests<3.0.0,>=2.13.0->spacy) (3.4.1)\n",
      "Requirement already satisfied: idna<4,>=2.5 in /Library/Frameworks/Python.framework/Versions/3.13/lib/python3.13/site-packages (from requests<3.0.0,>=2.13.0->spacy) (3.10)\n",
      "Requirement already satisfied: urllib3<3,>=1.21.1 in /Library/Frameworks/Python.framework/Versions/3.13/lib/python3.13/site-packages (from requests<3.0.0,>=2.13.0->spacy) (2.3.0)\n",
      "Requirement already satisfied: certifi>=2017.4.17 in /Library/Frameworks/Python.framework/Versions/3.13/lib/python3.13/site-packages (from requests<3.0.0,>=2.13.0->spacy) (2025.1.31)\n",
      "Requirement already satisfied: blis<1.4.0,>=1.3.0 in /Library/Frameworks/Python.framework/Versions/3.13/lib/python3.13/site-packages (from thinc<8.4.0,>=8.3.4->spacy) (1.3.0)\n",
      "Requirement already satisfied: confection<1.0.0,>=0.0.1 in /Library/Frameworks/Python.framework/Versions/3.13/lib/python3.13/site-packages (from thinc<8.4.0,>=8.3.4->spacy) (0.1.5)\n",
      "Requirement already satisfied: click>=8.0.0 in /Library/Frameworks/Python.framework/Versions/3.13/lib/python3.13/site-packages (from typer<1.0.0,>=0.3.0->spacy) (8.1.8)\n",
      "Requirement already satisfied: shellingham>=1.3.0 in /Library/Frameworks/Python.framework/Versions/3.13/lib/python3.13/site-packages (from typer<1.0.0,>=0.3.0->spacy) (1.5.4)\n",
      "Requirement already satisfied: rich>=10.11.0 in /Library/Frameworks/Python.framework/Versions/3.13/lib/python3.13/site-packages (from typer<1.0.0,>=0.3.0->spacy) (13.9.4)\n",
      "Requirement already satisfied: cloudpathlib<1.0.0,>=0.7.0 in /Library/Frameworks/Python.framework/Versions/3.13/lib/python3.13/site-packages (from weasel<0.5.0,>=0.1.0->spacy) (0.21.1)\n",
      "Requirement already satisfied: smart-open<8.0.0,>=5.2.1 in /Library/Frameworks/Python.framework/Versions/3.13/lib/python3.13/site-packages (from weasel<0.5.0,>=0.1.0->spacy) (7.1.0)\n",
      "Requirement already satisfied: MarkupSafe>=2.0 in /Library/Frameworks/Python.framework/Versions/3.13/lib/python3.13/site-packages (from jinja2->spacy) (3.0.2)\n",
      "Requirement already satisfied: marisa-trie>=1.1.0 in /Library/Frameworks/Python.framework/Versions/3.13/lib/python3.13/site-packages (from language-data>=1.2->langcodes<4.0.0,>=3.2.0->spacy) (1.2.1)\n",
      "Requirement already satisfied: markdown-it-py>=2.2.0 in /Library/Frameworks/Python.framework/Versions/3.13/lib/python3.13/site-packages (from rich>=10.11.0->typer<1.0.0,>=0.3.0->spacy) (3.0.0)\n",
      "Requirement already satisfied: pygments<3.0.0,>=2.13.0 in /Users/jatinbomrasipeta/Library/Python/3.13/lib/python/site-packages (from rich>=10.11.0->typer<1.0.0,>=0.3.0->spacy) (2.19.1)\n",
      "Requirement already satisfied: wrapt in /Library/Frameworks/Python.framework/Versions/3.13/lib/python3.13/site-packages (from smart-open<8.0.0,>=5.2.1->weasel<0.5.0,>=0.1.0->spacy) (1.17.2)\n",
      "Requirement already satisfied: mdurl~=0.1 in /Library/Frameworks/Python.framework/Versions/3.13/lib/python3.13/site-packages (from markdown-it-py>=2.2.0->rich>=10.11.0->typer<1.0.0,>=0.3.0->spacy) (0.1.2)\n",
      "\n",
      "\u001b[1m[\u001b[0m\u001b[34;49mnotice\u001b[0m\u001b[1;39;49m]\u001b[0m\u001b[39;49m A new release of pip is available: \u001b[0m\u001b[31;49m25.0.1\u001b[0m\u001b[39;49m -> \u001b[0m\u001b[32;49m25.1.1\u001b[0m\n",
      "\u001b[1m[\u001b[0m\u001b[34;49mnotice\u001b[0m\u001b[1;39;49m]\u001b[0m\u001b[39;49m To update, run: \u001b[0m\u001b[32;49mpip install --upgrade pip\u001b[0m\n",
      "Note: you may need to restart the kernel to use updated packages.\n",
      "Collecting en-core-web-sm==3.8.0\n",
      "  Downloading https://github.com/explosion/spacy-models/releases/download/en_core_web_sm-3.8.0/en_core_web_sm-3.8.0-py3-none-any.whl (12.8 MB)\n",
      "\u001b[2K     \u001b[90m━━━━━━━━━━━━━━━━━━━━━━━━━━━━━━━━━━━━━━━━\u001b[0m \u001b[32m12.8/12.8 MB\u001b[0m \u001b[31m24.9 MB/s\u001b[0m eta \u001b[36m0:00:00\u001b[0m \u001b[36m0:00:01\u001b[0m\n",
      "\u001b[?25hInstalling collected packages: en-core-web-sm\n",
      "Successfully installed en-core-web-sm-3.8.0\n",
      "\u001b[38;5;2m✔ Download and installation successful\u001b[0m\n",
      "You can now load the package via spacy.load('en_core_web_sm')\n",
      "\u001b[38;5;3m⚠ Restart to reload dependencies\u001b[0m\n",
      "If you are in a Jupyter or Colab notebook, you may need to restart Python in\n",
      "order to load all the package's dependencies. You can do this by selecting the\n",
      "'Restart kernel' or 'Restart runtime' option.\n"
     ]
    },
    {
     "name": "stderr",
     "output_type": "stream",
     "text": [
      "\n",
      "\u001b[1m[\u001b[0m\u001b[34;49mnotice\u001b[0m\u001b[1;39;49m]\u001b[0m\u001b[39;49m A new release of pip is available: \u001b[0m\u001b[31;49m25.0.1\u001b[0m\u001b[39;49m -> \u001b[0m\u001b[32;49m25.1.1\u001b[0m\n",
      "\u001b[1m[\u001b[0m\u001b[34;49mnotice\u001b[0m\u001b[1;39;49m]\u001b[0m\u001b[39;49m To update, run: \u001b[0m\u001b[32;49mpip install --upgrade pip\u001b[0m\n"
     ]
    }
   ],
   "source": [
    "%pip install spacy\n",
    "import re, pytesseract\n",
    "import spacy, csv, mimetypes\n",
    "\n",
    "# Download the model if not already present\n",
    "try:\n",
    "\tnlp = spacy.load(\"en_core_web_sm\")\n",
    "except OSError:\n",
    "\tfrom spacy.cli import download\n",
    "\tdownload(\"en_core_web_sm\")\n",
    "\tnlp = spacy.load(\"en_core_web_sm\")"
   ]
  },
  {
   "cell_type": "code",
   "execution_count": 3,
   "metadata": {},
   "outputs": [],
   "source": [
    "import os\n",
    "from dotenv import load_dotenv\n",
    "load_dotenv()                           # expects .env in the repo root\n",
    "\n",
    "OPENAI_API_KEY  = os.getenv(\"OPENAI_API_KEY\")\n",
    "PINECONE_API_KEY = os.getenv(\"PINECONE_API_KEY\")\n",
    "PINECONE_ENV     = os.getenv(\"PINECONE_ENV\")  # e.g. \"gcp-starter\"\n"
   ]
  },
  {
   "cell_type": "code",
   "execution_count": 5,
   "metadata": {},
   "outputs": [],
   "source": [
    "from pathlib import Path\n",
    "import fitz  # PyMuPDF\n",
    "\n",
    "def load_pdf(path: Path) -> str:\n",
    "    doc = fitz.open(path)\n",
    "    text = []\n",
    "    for page in doc:\n",
    "        text.append(page.get_text(\"text\"))\n",
    "    return \"\\n\".join(text)\n",
    "\n",
    "raw_text = load_pdf(Path(\"doc2.pdf\"))\n"
   ]
  },
  {
   "cell_type": "code",
   "execution_count": 6,
   "metadata": {},
   "outputs": [],
   "source": [
    "import os, base64\n",
    "from pathlib import Path\n",
    "from tqdm import tqdm\n",
    "\n",
    "import fitz                         # PyMuPDF 2.0+\n",
    "import tabula                       # needs Java;  pip install tabula-py jpype1\n",
    "from langchain.text_splitter import RecursiveCharacterTextSplitter\n"
   ]
  },
  {
   "cell_type": "code",
   "execution_count": null,
   "metadata": {},
   "outputs": [],
   "source": [
    "# def create_directories(base_dir: str = \"data\"):\n",
    "#     for leaf in [\"images\", \"text\", \"tables\", \"page_images\"]:\n",
    "#         os.makedirs(Path(base_dir) / leaf, exist_ok=True)\n"
   ]
  },
  {
   "cell_type": "code",
   "execution_count": null,
   "metadata": {},
   "outputs": [],
   "source": [
    "# def process_tables(filepath: str, doc, page_num: int, base_dir: str, items: list):\n",
    "#     \"\"\"Extract all tables on a page with Tabula → save as txt.\"\"\"\n",
    "#     try:\n",
    "#         tables = tabula.read_pdf(filepath, pages=page_num + 1, multiple_tables=True)\n",
    "#         if not tables:\n",
    "#             return\n",
    "#         for t_idx, df in enumerate(tables):\n",
    "#             table_text = \"\\n\".join([\" | \".join(map(str, row)) for row in df.values])\n",
    "#             fname = Path(base_dir) / \"tables\" / f\"{Path(filepath).stem}_table_{page_num}_{t_idx}.txt\"\n",
    "#             fname.write_text(table_text, encoding=\"utf-8\")\n",
    "#             items.append({\"page\": page_num, \"type\": \"table\", \"text\": table_text, \"path\": str(fname)})\n",
    "#     except Exception as e:\n",
    "#         print(f\"[warn] page {page_num}: table extract failed ➜ {e}\")\n",
    "\n",
    "# def process_text_chunks(text: str, splitter, page_num: int, base_dir: str, filepath: str, items: list):\n",
    "#     for i, chunk in enumerate(splitter.split_text(text)):\n",
    "#         fname = Path(base_dir) / \"text\" / f\"{Path(filepath).stem}_text_{page_num}_{i}.txt\"\n",
    "#         fname.write_text(chunk, encoding=\"utf-8\")\n",
    "#         items.append({\"page\": page_num, \"type\": \"text\", \"text\": chunk, \"path\": str(fname)})\n",
    "\n",
    "# def process_images(doc, page, page_num: int, base_dir: str, filepath: str, items: list):\n",
    "#     for idx, img in enumerate(page.get_images(full=True)):\n",
    "#         xref = img[0]\n",
    "#         pix = fitz.Pixmap(doc, xref)\n",
    "#         # handle CMYK → RGB\n",
    "#         if pix.alpha or pix.colorspace.n > 3:\n",
    "#             pix = fitz.Pixmap(fitz.csRGB, pix)\n",
    "#         fname = Path(base_dir) / \"images\" / f\"{Path(filepath).stem}_image_{page_num}_{idx}_{xref}.png\"\n",
    "#         pix.save(fname)\n",
    "#         items.append({\n",
    "#             \"page\": page_num, \"type\": \"image\", \"path\": str(fname),\n",
    "#             \"image\": base64.b64encode(fname.read_bytes()).decode(\"utf-8\")\n",
    "#         })\n",
    "\n",
    "# def process_page_image(page, page_num: int, base_dir: str, items: list):\n",
    "#     pix = page.get_pixmap(matrix=fitz.Matrix(2,2))   # 2× for crispness\n",
    "#     fname = Path(base_dir) / \"page_images\" / f\"page_{page_num:03d}.png\"\n",
    "#     pix.save(fname)\n",
    "#     items.append({\n",
    "#         \"page\": page_num, \"type\": \"page\", \"path\": str(fname),\n",
    "#         \"image\": base64.b64encode(fname.read_bytes()).decode(\"utf-8\")\n",
    "#     })\n"
   ]
  },
  {
   "cell_type": "code",
   "execution_count": null,
   "metadata": {},
   "outputs": [
    {
     "name": "stderr",
     "output_type": "stream",
     "text": [
      "Processing PDF pages: 100%|██████████| 84/84 [00:29<00:00,  2.82it/s]"
     ]
    },
    {
     "name": "stdout",
     "output_type": "stream",
     "text": [
      "✅  finished – extracted 750 items\n"
     ]
    },
    {
     "name": "stderr",
     "output_type": "stream",
     "text": [
      "\n"
     ]
    }
   ],
   "source": [
    "# filepath = \"/Users/rajeev/Downloads/doc2.pdf\"          # ← update if needed\n",
    "# base_dir = \"data\"              # root output folder\n",
    "\n",
    "# create_directories(base_dir)\n",
    "# splitter = RecursiveCharacterTextSplitter(\n",
    "#     chunk_size=700, chunk_overlap=200, length_function=len\n",
    "# )\n",
    "\n",
    "# items = []\n",
    "\n",
    "# doc = fitz.open(filepath)\n",
    "# for page_num in tqdm(range(len(doc)), desc=\"Processing PDF pages\"):\n",
    "#     page = doc[page_num]\n",
    "#     text = page.get_text(\"text\")\n",
    "\n",
    "#     process_tables(filepath, doc, page_num, base_dir, items)\n",
    "#     process_text_chunks(text, splitter, page_num, base_dir, filepath, items)\n",
    "#     process_images(doc, page, page_num, base_dir, filepath, items)\n",
    "#     process_page_image(page, page_num, base_dir, items)\n",
    "\n",
    "# print(f\"✅  finished – extracted {len(items)} items\")\n"
   ]
  },
  {
   "cell_type": "code",
   "execution_count": null,
   "metadata": {},
   "outputs": [],
   "source": [
    "# # First text chunk – preview 200 chars\n",
    "# first_text = next(obj for obj in items if obj[\"type\"] == \"text\")\n",
    "# print(first_text[\"text\"][:200])\n",
    "\n",
    "# # First table – preview 200 chars\n",
    "# first_table = next(obj for obj in items if obj[\"type\"] == \"table\")\n",
    "# print(first_table[\"text\"][:200])\n",
    "\n",
    "# # First image – show path (or the base64 string length, etc.)\n",
    "# first_img = next(obj for obj in items if obj[\"type\"] == \"image\")\n",
    "# print(first_img[\"path\"])\n",
    "# # print(len(first_img[\"image\"]))   # if you want to confirm it’s base64\n"
   ]
  },
  {
   "cell_type": "code",
   "execution_count": null,
   "metadata": {},
   "outputs": [],
   "source": [
    "pip install pdfplumber jpype1 tabula-py pillow"
   ]
  },
  {
   "cell_type": "code",
   "execution_count": 8,
   "metadata": {},
   "outputs": [],
   "source": [
    "from pathlib import Path\n",
    "import os, base64, json, fitz, pdfplumber\n",
    "from tqdm import tqdm\n",
    "import tabula\n",
    "from langchain.text_splitter import RecursiveCharacterTextSplitter\n",
    "\n",
    "# ---------- CONFIG ----------\n",
    "PDF_PATH  = Path(\"doc2.pdf\")\n",
    "BASE_DIR  = Path(\"data\")\n",
    "DIAGRAM_THRESHOLD = 0.60   # % of page area to be considered full-page diagram\n",
    "LOGO_THRESHOLD    = 0.10   # % of page area under which we skip as logo/ornament\n",
    "TEXT_EMPTY_LIMIT   = 100   # page is “empty” if ≤ 100 chars\n",
    "NEIGHBOR_MIN_CHARS = 200   # char count to decide page is \"mostly image\"\n",
    "PIXMAP_ZOOM       = 3      # render factor for full page images\n",
    "# ----------------------------\n"
   ]
  },
  {
   "cell_type": "code",
   "execution_count": 9,
   "metadata": {},
   "outputs": [],
   "source": [
    "\n",
    "# 1 · utils ------------------------------------------------------\n",
    "def ensure_dirs():\n",
    "    for sub in [\"images\", \"text\", \"tables\", \"page_images\"]:\n",
    "        (BASE_DIR / sub).mkdir(parents=True, exist_ok=True)\n",
    "\n",
    "def save_txt(fname: Path, txt: str):\n",
    "    fname.write_text(txt, encoding=\"utf-8\")\n",
    "\n",
    "def save_pixmap(pix: fitz.Pixmap, fname: Path):\n",
    "    if pix.alpha or pix.colorspace.n > 3:\n",
    "        pix = fitz.Pixmap(fitz.csRGB, pix)\n",
    "    pix.save(fname)\n"
   ]
  },
  {
   "cell_type": "code",
   "execution_count": 10,
   "metadata": {},
   "outputs": [],
   "source": [
    "\n",
    "# 2 · caption cache stub ----------------------------------------\n",
    "CAPTION_CACHE_FILE = \"captions_cache.json\"\n",
    "if Path(CAPTION_CACHE_FILE).exists():\n",
    "    CAPTION_CACHE = json.loads(Path(CAPTION_CACHE_FILE).read_text())\n",
    "else:\n",
    "    CAPTION_CACHE = {}\n",
    "\n",
    "def caption_image_cached(path: Path) -> str:\n",
    "    key = str(path.resolve())\n",
    "    if key in CAPTION_CACHE:\n",
    "        return CAPTION_CACHE[key]\n",
    "    # --- call your GPT-4o vision captioner here ---\n",
    "    caption = \"[CAPTION]\"  # placeholder\n",
    "    CAPTION_CACHE[key] = caption\n",
    "    Path(CAPTION_CACHE_FILE).write_text(json.dumps(CAPTION_CACHE, indent=2))\n",
    "    return caption\n"
   ]
  },
  {
   "cell_type": "code",
   "execution_count": 12,
   "metadata": {},
   "outputs": [],
   "source": [
    "from io import BytesIO\n",
    "from PIL import Image\n",
    "import imagehash\n",
    "\n",
    "# Global trackers\n",
    "HASH_COUNTS = {}\n",
    "SKIP_HASHES = set()\n",
    "\n",
    "def pixmap_to_pil(pix: fitz.Pixmap) -> Image.Image:\n",
    "    \"\"\"Convert PyMuPDF pixmap to PIL Image, with fallback for broken samples\"\"\"\n",
    "    try:\n",
    "        # Convert via bytes safely\n",
    "        mode = \"RGB\" if pix.n < 5 else \"RGBA\"\n",
    "        img_bytes = pix.tobytes(output=\"ppm\")  # robust fallback\n",
    "        return Image.open(BytesIO(img_bytes)).convert(mode)\n",
    "    except Exception as e:\n",
    "        print(f\"[warn] pixmap_to_pil failed: {e}\")\n",
    "        return None\n",
    "\n",
    "\n",
    "def should_skip_pil_image(pil_img: Image.Image, min_repeat: int = 3) -> bool:\n",
    "    \"\"\"Decide whether to skip an image based on perceptual hash frequency\"\"\"\n",
    "    img_hash = str(imagehash.phash(pil_img))\n",
    "    if img_hash in SKIP_HASHES:\n",
    "        return True\n",
    "    HASH_COUNTS[img_hash] = HASH_COUNTS.get(img_hash, 0) + 1\n",
    "    if HASH_COUNTS[img_hash] >= min_repeat:\n",
    "        SKIP_HASHES.add(img_hash)\n",
    "        return True\n",
    "    return False\n"
   ]
  },
  {
   "cell_type": "code",
   "execution_count": 13,
   "metadata": {},
   "outputs": [],
   "source": [
    "def extract_headings(words):\n",
    "    \"\"\"Heuristic: return candidate headings by largest font sizes (based on height).\"\"\"\n",
    "    if not words: \n",
    "        return []\n",
    "    # Estimate font size from height\n",
    "    for w in words:\n",
    "        w[\"size\"] = round(w[\"bottom\"] - w[\"top\"], 2)\n",
    "\n",
    "    # Pick largest 2-3 sizes as likely headings\n",
    "    sizes = sorted({w[\"size\"] for w in words}, reverse=True)[:3]\n",
    "    headings = [w for w in words if w[\"size\"] in sizes and w[\"text\"].strip()]\n",
    "\n",
    "    # Group into lines\n",
    "    result = []\n",
    "    line = \"\"\n",
    "    y_prev = None\n",
    "    for w in headings:\n",
    "        if y_prev is None or abs(w[\"top\"] - y_prev) < 2:\n",
    "            line += \" \" + w[\"text\"]\n",
    "        else:\n",
    "            result.append(line.strip())\n",
    "            line = w[\"text\"]\n",
    "        y_prev = w[\"top\"]\n",
    "    if line.strip(): \n",
    "        result.append(line.strip())\n",
    "    return result\n"
   ]
  },
  {
   "cell_type": "code",
   "execution_count": 14,
   "metadata": {},
   "outputs": [],
   "source": [
    "WARNING_TAGS = (\"WARNING\", \"CAUTION\", \"DANGER\", \"NOTE\", \"STEP\")\n",
    "def tag_special_chunks(txt:str)->str:\n",
    "    for tag in WARNING_TAGS:\n",
    "        if txt.upper().startswith(tag):\n",
    "            return f\"[{tag}] {txt}\"\n",
    "    return txt"
   ]
  },
  {
   "cell_type": "code",
   "execution_count": 15,
   "metadata": {},
   "outputs": [],
   "source": [
    "# 3 · main extractor --------------------------------------------\n",
    "def extract_pdf(pdf_path: Path):\n",
    "    ensure_dirs()\n",
    "    splitter = RecursiveCharacterTextSplitter(chunk_size=700, chunk_overlap=200)\n",
    "\n",
    "    items = []\n",
    "    doc   = fitz.open(pdf_path)\n",
    "\n",
    "    for page_idx in tqdm(range(len(doc)), desc=\"Processing pages\"):\n",
    "        page = doc[page_idx]\n",
    "        # Default section heading for page\n",
    "        current_h = \"\"\n",
    "        try:\n",
    "            with pdfplumber.open(pdf_path) as plumber_pdf:\n",
    "                plumber_page = plumber_pdf.pages[page_idx]\n",
    "                pl_words = plumber_page.extract_words()\n",
    "                headings = extract_headings(pl_words)\n",
    "                current_h = headings[0] if headings else \"\"\n",
    "        except Exception as e:\n",
    "            print(f\"[warn] heading extraction failed on page {page_idx}: {e}\")\n",
    "\n",
    "        raw_text = page.get_text(\"text\", sort=True).strip()\n",
    "        if len(raw_text) < 20:            # likely scanned text\n",
    "            ocr_img = page.get_pixmap(matrix=fitz.Matrix(2,2))\n",
    "            ocr_txt = pytesseract.image_to_string(Image.open(BytesIO(ocr_img.tobytes()))).strip()\n",
    "            if len(ocr_txt) > 20:\n",
    "                raw_text = ocr_txt\n",
    "\n",
    "        # ---------- Table extraction ----------\n",
    "        # ---------- Table extraction with fallback ----------\n",
    "        import csv\n",
    "\n",
    "        # ---------- Table extraction with fallback and cleanup ----------\n",
    "        tables = []\n",
    "\n",
    "        # Try Tabula (best for ruled tables)\n",
    "        try:\n",
    "            tables = tabula.read_pdf(str(pdf_path), pages=page_idx + 1, multiple_tables=True)\n",
    "        except Exception as e:\n",
    "            print(f\"[warn] tabula failed on page {page_idx}: {e}\")\n",
    "\n",
    "        # Fallback to pdfplumber\n",
    "        if not tables:\n",
    "            try:\n",
    "                with pdfplumber.open(pdf_path) as plumber_pdf:\n",
    "                    plumber_page = plumber_pdf.pages[page_idx]\n",
    "                    extracted = plumber_page.extract_tables()\n",
    "                    for t in extracted:\n",
    "                        if any(cell for row in t for cell in row if cell and cell.strip()):\n",
    "                            tables.append(t)\n",
    "            except Exception as e:\n",
    "                print(f\"[warn] pdfplumber failed on page {page_idx}: {e}\")\n",
    "\n",
    "        # Process extracted tables\n",
    "        for t_idx, table in enumerate(tables):\n",
    "            cleaned_rows = []\n",
    "\n",
    "            # Tabula: pandas DataFrame\n",
    "            if hasattr(table, \"values\"):\n",
    "                rows = table.values.tolist()\n",
    "            else:\n",
    "                rows = table  # pdfplumber: list of lists\n",
    "\n",
    "            # Clean: strip whitespace, flatten \\n, fill empty with \"\"\n",
    "            for row in rows:\n",
    "                row = [str(cell).strip().replace(\"\\n\", \" \") if cell else \"\" for cell in row]\n",
    "                if any(cell for cell in row):  # skip empty rows\n",
    "                    cleaned_rows.append(row)\n",
    "\n",
    "            # --- Reconstruct multiline rows ---\n",
    "            reconstructed_rows = []\n",
    "            current_row = None\n",
    "\n",
    "            for row in cleaned_rows:\n",
    "                if row[0].strip():  # new row\n",
    "                    if current_row:\n",
    "                        reconstructed_rows.append(current_row)\n",
    "                    current_row = row\n",
    "                else:  # continuation of previous row\n",
    "                    if current_row:\n",
    "                        for i in range(len(row)):\n",
    "                            if row[i].strip():\n",
    "                                current_row[i] += \" \" + row[i]\n",
    "\n",
    "            if current_row:\n",
    "                reconstructed_rows.append(current_row)\n",
    "\n",
    "            # Convert to clean text for embedding\n",
    "            table_text = \"\\n\".join([\" | \".join(row) for row in reconstructed_rows])\n",
    "\n",
    "            # Save .txt for RAG\n",
    "            f = BASE_DIR / \"tables\" / f\"{pdf_path.stem}_table_{page_idx}_{t_idx}.txt\"\n",
    "            save_txt(f, table_text)\n",
    "\n",
    "            # Save .csv for inspection\n",
    "            csv_path = f.with_suffix(\".csv\")\n",
    "            with open(csv_path, \"w\", newline=\"\", encoding=\"utf-8\") as csvfile:\n",
    "                writer = csv.writer(csvfile)\n",
    "                writer.writerows(reconstructed_rows)\n",
    "\n",
    "            # Append to items for embedding\n",
    "            items.append({\n",
    "                \"page\": page_idx,\n",
    "                \"type\": \"table\",\n",
    "                \"text\": table_text,\n",
    "                \"path\": str(f)\n",
    "            })\n",
    "\n",
    "            m = re.search(r\"(Table\\s+\\d+\\s*[\\–\\-—]\\s*[^\\n]{5,80})\", raw_text)\n",
    "            if m:\n",
    "                items[-1][\"caption_title\"] = m.group(1).strip()\n",
    "\n",
    "        # ---------- Text chunking ----------\n",
    "        if raw_text:\n",
    "            for i, chunk in enumerate(splitter.split_text(raw_text)):\n",
    "                f = BASE_DIR / \"text\" / f\"{pdf_path.stem}_text_{page_idx}_{i}.txt\"\n",
    "                save_txt(f, chunk)\n",
    "                items.append({\n",
    "                    \"page\": page_idx,\n",
    "                    \"type\": \"text\",\n",
    "                    \"text\": chunk,\n",
    "                    \"section\": current_h,           # ▶️  add detected heading\n",
    "                    \"path\": str(f)\n",
    "                })\n",
    "\n",
    "        # ---------- Image logic ----------\n",
    "        page_bbox = page.rect\n",
    "        page_area = page_bbox.width * page_bbox.height\n",
    "        full_page_diagram = False\n",
    "\n",
    "        with pdfplumber.open(pdf_path) as plumber_pdf:\n",
    "            plumber_page = plumber_pdf.pages[page_idx]\n",
    "            imgs = plumber_page.images  # gives bbox coords\n",
    "            print(f\"[Page {page_idx}] {len(imgs)} images found\")\n",
    "            for img in imgs:\n",
    "                img_area = img[\"width\"] * img[\"height\"]\n",
    "                print(f\"  → {round(img_area / page_area * 100, 2)}% of page\")\n",
    "\n",
    "        # Filter out tiny logos\n",
    "        large_imgs = [\n",
    "            img for img in imgs\n",
    "            if (img[\"width\"] * img[\"height\"]) / page_area > LOGO_THRESHOLD\n",
    "        ]\n",
    "\n",
    "        # Heuristic: one large image covers most of the page\n",
    "        composite_area = sum(img[\"width\"] * img[\"height\"] for img in imgs if (img[\"width\"] * img[\"height\"]) / page_area > 0.15)\n",
    "\n",
    "        if composite_area / page_area > 0.40:\n",
    "            full_page_diagram = True\n",
    "\n",
    "        if full_page_diagram:\n",
    "            # Render whole page at high res\n",
    "            pix = page.get_pixmap(matrix=fitz.Matrix(PIXMAP_ZOOM, PIXMAP_ZOOM))\n",
    "            f = BASE_DIR / \"page_images\" / f\"diagram_page_{page_idx:03d}.png\"\n",
    "            save_pixmap(pix, f)\n",
    "            caption = caption_image_cached(f)\n",
    "\n",
    "            # If page text is too short, pull context from neighbors\n",
    "            related = \"\"\n",
    "            if len(raw_text) <= TEXT_EMPTY_LIMIT:\n",
    "                for adj_idx in (page_idx - 1, page_idx + 1):\n",
    "                    if 0 <= adj_idx < len(doc):\n",
    "                        adj_text = doc[adj_idx].get_text(\"text\", sort=True).strip()\n",
    "                        if len(adj_text) >= NEIGHBOR_MIN_CHARS:\n",
    "                            related += f\"\\n[[Neighbor page {adj_idx}]]\\n\" + adj_text\n",
    "            items.append({\n",
    "            \"page\": page_idx,\n",
    "            \"type\": \"page\",\n",
    "            \"path\": str(f),\n",
    "            \"text\": caption,          # the GPT-4o caption\n",
    "            \"related_text\": related.strip()  # may be empty if nothing useful\n",
    "            })\n",
    "            print(f\"✅ Detected composite diagram on page {page_idx} covering {round(composite_area / page_area * 100, 2)}%\")\n",
    "\n",
    "            m = re.search(r\"(Figure\\s+\\d+\\s*[\\–\\-—]\\s*[^\\n]{5,80})\", raw_text)\n",
    "            if m:\n",
    "                items[-1][\"caption_title\"] = m.group(1).strip()\n",
    "\n",
    "        else:\n",
    "            # Normal inline images\n",
    "            page_area = page.rect.width * page.rect.height\n",
    "\n",
    "            with pdfplumber.open(pdf_path) as plumber_pdf:\n",
    "                plumber_page = plumber_pdf.pages[page_idx]\n",
    "                imgs = plumber_page.images  # contains width, height, x0, y0, etc.\n",
    "\n",
    "            for idx, img in enumerate(page.get_images(full=True)):\n",
    "                xref = img[0]\n",
    "\n",
    "                # 🔍 Find the matching image in plumber by xref (or fallback to estimated area)\n",
    "                matching = next((i for i in imgs if i.get(\"name\") == img[7]), None)\n",
    "\n",
    "                if matching:\n",
    "                    img_area = matching[\"width\"] * matching[\"height\"]\n",
    "                else:\n",
    "                    pix = fitz.Pixmap(doc, xref)\n",
    "                    img_area = pix.width * pix.height\n",
    "\n",
    "                percent = img_area / page_area\n",
    "\n",
    "                if percent < 0.01:\n",
    "                    print(f\"🗑️ Skipped small image on page {page_idx}: {round(percent * 100, 2)}% of page\")\n",
    "                    continue\n",
    "\n",
    "                pix = fitz.Pixmap(doc, xref)\n",
    "                fname = BASE_DIR / \"images\" / f\"{pdf_path.stem}_img_{page_idx}_{idx}_{xref}.png\"\n",
    "                save_pixmap(pix, fname)\n",
    "\n",
    "                items.append({\n",
    "                    \"page\": page_idx,\n",
    "                    \"type\": \"image\",\n",
    "                    \"path\": str(fname),\n",
    "                    \"text\": caption_image_cached(fname)\n",
    "                })\n",
    "\n",
    "                m = re.search(r\"(Figure\\s+\\d+\\s*[\\–\\-—]\\s*[^\\n]{5,80})\", raw_text)\n",
    "                if m:\n",
    "                    items[-1][\"caption_title\"] = m.group(1).strip()\n",
    "\n",
    "    print(\"\\n🧾 Pages with full-page diagrams:\")\n",
    "    print([item[\"page\"] for item in items if item[\"type\"] == \"page\"])\n",
    "    \n",
    "\n",
    "\n",
    "    print(f\"✅ finished – extracted {len(items)} items\")\n",
    "    return items\n"
   ]
  },
  {
   "cell_type": "code",
   "execution_count": 16,
   "metadata": {},
   "outputs": [],
   "source": [
    "import shutil\n",
    "shutil.rmtree(\"data/images\", ignore_errors=True)\n",
    "shutil.rmtree(\"data/page_images\", ignore_errors=True)\n",
    "shutil.rmtree(\"data/tables\", ignore_errors=True)\n",
    "shutil.rmtree(\"data/text\", ignore_errors=True)\n"
   ]
  },
  {
   "cell_type": "code",
   "execution_count": 17,
   "metadata": {},
   "outputs": [
    {
     "name": "stderr",
     "output_type": "stream",
     "text": [
      "Processing pages:   0%|          | 0/84 [00:00<?, ?it/s]The operation couldn’t be completed. Unable to locate a Java Runtime.\n",
      "Please visit http://www.java.com for information on installing Java.\n",
      "\n",
      "Processing pages:   1%|          | 1/84 [00:01<02:29,  1.81s/it]"
     ]
    },
    {
     "name": "stdout",
     "output_type": "stream",
     "text": [
      "[warn] tabula failed on page 0: Command '['/usr/libexec/java_home']' returned non-zero exit status 1.\n",
      "[Page 0] 2 images found\n",
      "  → 33.8% of page\n",
      "  → 4.83% of page\n"
     ]
    },
    {
     "name": "stderr",
     "output_type": "stream",
     "text": [
      "The operation couldn’t be completed. Unable to locate a Java Runtime.\n",
      "Please visit http://www.java.com for information on installing Java.\n",
      "\n",
      "Processing pages:   2%|▏         | 2/84 [00:02<01:27,  1.07s/it]"
     ]
    },
    {
     "name": "stdout",
     "output_type": "stream",
     "text": [
      "[warn] tabula failed on page 1: Command '['/usr/libexec/java_home']' returned non-zero exit status 1.\n",
      "[Page 1] 4 images found\n",
      "  → 0.97% of page\n",
      "  → 0.2% of page\n",
      "  → 0.16% of page\n",
      "  → 0.16% of page\n",
      "🗑️ Skipped small image on page 1: 0.97% of page\n",
      "🗑️ Skipped small image on page 1: 0.2% of page\n",
      "🗑️ Skipped small image on page 1: 0.16% of page\n"
     ]
    },
    {
     "name": "stderr",
     "output_type": "stream",
     "text": [
      "The operation couldn’t be completed. Unable to locate a Java Runtime.\n",
      "Please visit http://www.java.com for information on installing Java.\n",
      "\n"
     ]
    },
    {
     "name": "stdout",
     "output_type": "stream",
     "text": [
      "[warn] tabula failed on page 2: Command '['/usr/libexec/java_home']' returned non-zero exit status 1.\n",
      "[Page 2] 2 images found\n",
      "  → 0.2% of page\n",
      "  → 0.97% of page\n"
     ]
    },
    {
     "name": "stderr",
     "output_type": "stream",
     "text": [
      "Processing pages:   4%|▎         | 3/84 [00:03<01:19,  1.01it/s]"
     ]
    },
    {
     "name": "stdout",
     "output_type": "stream",
     "text": [
      "🗑️ Skipped small image on page 2: 0.2% of page\n",
      "🗑️ Skipped small image on page 2: 0.97% of page\n"
     ]
    },
    {
     "name": "stderr",
     "output_type": "stream",
     "text": [
      "The operation couldn’t be completed. Unable to locate a Java Runtime.\n",
      "Please visit http://www.java.com for information on installing Java.\n",
      "\n"
     ]
    },
    {
     "name": "stdout",
     "output_type": "stream",
     "text": [
      "[warn] tabula failed on page 3: Command '['/usr/libexec/java_home']' returned non-zero exit status 1.\n",
      "[Page 3] 2 images found\n",
      "  → 0.97% of page\n",
      "  → 0.2% of page\n"
     ]
    },
    {
     "name": "stderr",
     "output_type": "stream",
     "text": [
      "Processing pages:   5%|▍         | 4/84 [00:04<01:11,  1.11it/s]"
     ]
    },
    {
     "name": "stdout",
     "output_type": "stream",
     "text": [
      "🗑️ Skipped small image on page 3: 0.97% of page\n",
      "🗑️ Skipped small image on page 3: 0.2% of page\n"
     ]
    },
    {
     "name": "stderr",
     "output_type": "stream",
     "text": [
      "The operation couldn’t be completed. Unable to locate a Java Runtime.\n",
      "Please visit http://www.java.com for information on installing Java.\n",
      "\n",
      "Processing pages:   6%|▌         | 5/84 [00:04<01:02,  1.25it/s]"
     ]
    },
    {
     "name": "stdout",
     "output_type": "stream",
     "text": [
      "[warn] tabula failed on page 4: Command '['/usr/libexec/java_home']' returned non-zero exit status 1.\n",
      "[Page 4] 2 images found\n",
      "  → 0.2% of page\n",
      "  → 0.97% of page\n",
      "🗑️ Skipped small image on page 4: 0.2% of page\n",
      "🗑️ Skipped small image on page 4: 0.97% of page\n"
     ]
    },
    {
     "name": "stderr",
     "output_type": "stream",
     "text": [
      "The operation couldn’t be completed. Unable to locate a Java Runtime.\n",
      "Please visit http://www.java.com for information on installing Java.\n",
      "\n",
      "Processing pages:   7%|▋         | 6/84 [00:05<00:58,  1.33it/s]"
     ]
    },
    {
     "name": "stdout",
     "output_type": "stream",
     "text": [
      "[warn] tabula failed on page 5: Command '['/usr/libexec/java_home']' returned non-zero exit status 1.\n",
      "[Page 5] 4 images found\n",
      "  → 0.97% of page\n",
      "  → 0.2% of page\n",
      "  → 0.16% of page\n",
      "  → 0.2% of page\n",
      "🗑️ Skipped small image on page 5: 0.97% of page\n",
      "🗑️ Skipped small image on page 5: 0.2% of page\n",
      "🗑️ Skipped small image on page 5: 0.16% of page\n",
      "🗑️ Skipped small image on page 5: 0.2% of page\n"
     ]
    },
    {
     "name": "stderr",
     "output_type": "stream",
     "text": [
      "The operation couldn’t be completed. Unable to locate a Java Runtime.\n",
      "Please visit http://www.java.com for information on installing Java.\n",
      "\n",
      "Processing pages:   8%|▊         | 7/84 [00:05<00:55,  1.38it/s]"
     ]
    },
    {
     "name": "stdout",
     "output_type": "stream",
     "text": [
      "[warn] tabula failed on page 6: Command '['/usr/libexec/java_home']' returned non-zero exit status 1.\n",
      "[Page 6] 6 images found\n",
      "  → 0.2% of page\n",
      "  → 0.97% of page\n",
      "  → 0.16% of page\n",
      "  → 0.16% of page\n",
      "  → 0.16% of page\n",
      "  → 0.16% of page\n",
      "🗑️ Skipped small image on page 6: 0.2% of page\n",
      "🗑️ Skipped small image on page 6: 0.97% of page\n",
      "🗑️ Skipped small image on page 6: 0.16% of page\n"
     ]
    },
    {
     "name": "stderr",
     "output_type": "stream",
     "text": [
      "The operation couldn’t be completed. Unable to locate a Java Runtime.\n",
      "Please visit http://www.java.com for information on installing Java.\n",
      "\n",
      "Processing pages:  10%|▉         | 8/84 [00:06<00:53,  1.43it/s]"
     ]
    },
    {
     "name": "stdout",
     "output_type": "stream",
     "text": [
      "[warn] tabula failed on page 7: Command '['/usr/libexec/java_home']' returned non-zero exit status 1.\n",
      "[Page 7] 2 images found\n",
      "  → 0.97% of page\n",
      "  → 0.2% of page\n",
      "🗑️ Skipped small image on page 7: 0.97% of page\n",
      "🗑️ Skipped small image on page 7: 0.2% of page\n"
     ]
    },
    {
     "name": "stderr",
     "output_type": "stream",
     "text": [
      "The operation couldn’t be completed. Unable to locate a Java Runtime.\n",
      "Please visit http://www.java.com for information on installing Java.\n",
      "\n",
      "Processing pages:  11%|█         | 9/84 [00:07<00:50,  1.49it/s]"
     ]
    },
    {
     "name": "stdout",
     "output_type": "stream",
     "text": [
      "[warn] tabula failed on page 8: Command '['/usr/libexec/java_home']' returned non-zero exit status 1.\n",
      "[Page 8] 3 images found\n",
      "  → 0.2% of page\n",
      "  → 0.97% of page\n",
      "  → 0.16% of page\n",
      "🗑️ Skipped small image on page 8: 0.2% of page\n",
      "🗑️ Skipped small image on page 8: 0.97% of page\n",
      "🗑️ Skipped small image on page 8: 0.16% of page\n"
     ]
    },
    {
     "name": "stderr",
     "output_type": "stream",
     "text": [
      "The operation couldn’t be completed. Unable to locate a Java Runtime.\n",
      "Please visit http://www.java.com for information on installing Java.\n",
      "\n",
      "Processing pages:  12%|█▏        | 10/84 [00:07<00:51,  1.44it/s]"
     ]
    },
    {
     "name": "stdout",
     "output_type": "stream",
     "text": [
      "[warn] tabula failed on page 9: Command '['/usr/libexec/java_home']' returned non-zero exit status 1.\n",
      "[Page 9] 2 images found\n",
      "  → 0.97% of page\n",
      "  → 0.2% of page\n",
      "🗑️ Skipped small image on page 9: 0.97% of page\n",
      "🗑️ Skipped small image on page 9: 0.2% of page\n"
     ]
    },
    {
     "name": "stderr",
     "output_type": "stream",
     "text": [
      "The operation couldn’t be completed. Unable to locate a Java Runtime.\n",
      "Please visit http://www.java.com for information on installing Java.\n",
      "\n",
      "Processing pages:  13%|█▎        | 11/84 [00:08<00:48,  1.51it/s]"
     ]
    },
    {
     "name": "stdout",
     "output_type": "stream",
     "text": [
      "[warn] tabula failed on page 10: Command '['/usr/libexec/java_home']' returned non-zero exit status 1.\n",
      "[Page 10] 3 images found\n",
      "  → 0.2% of page\n",
      "  → 0.97% of page\n",
      "  → 0.2% of page\n",
      "🗑️ Skipped small image on page 10: 0.2% of page\n",
      "🗑️ Skipped small image on page 10: 0.97% of page\n",
      "🗑️ Skipped small image on page 10: 0.2% of page\n"
     ]
    },
    {
     "name": "stderr",
     "output_type": "stream",
     "text": [
      "The operation couldn’t be completed. Unable to locate a Java Runtime.\n",
      "Please visit http://www.java.com for information on installing Java.\n",
      "\n",
      "Processing pages:  14%|█▍        | 12/84 [00:09<00:46,  1.55it/s]"
     ]
    },
    {
     "name": "stdout",
     "output_type": "stream",
     "text": [
      "[warn] tabula failed on page 11: Command '['/usr/libexec/java_home']' returned non-zero exit status 1.\n",
      "[Page 11] 3 images found\n",
      "  → 0.97% of page\n",
      "  → 0.2% of page\n",
      "  → 12.71% of page\n",
      "🗑️ Skipped small image on page 11: 0.97% of page\n",
      "🗑️ Skipped small image on page 11: 0.2% of page\n"
     ]
    },
    {
     "name": "stderr",
     "output_type": "stream",
     "text": [
      "The operation couldn’t be completed. Unable to locate a Java Runtime.\n",
      "Please visit http://www.java.com for information on installing Java.\n",
      "\n",
      "Processing pages:  15%|█▌        | 13/84 [00:09<00:46,  1.54it/s]"
     ]
    },
    {
     "name": "stdout",
     "output_type": "stream",
     "text": [
      "[warn] tabula failed on page 12: Command '['/usr/libexec/java_home']' returned non-zero exit status 1.\n",
      "[Page 12] 3 images found\n",
      "  → 0.2% of page\n",
      "  → 0.97% of page\n",
      "  → 33.8% of page\n",
      "🗑️ Skipped small image on page 12: 0.2% of page\n",
      "🗑️ Skipped small image on page 12: 0.97% of page\n"
     ]
    },
    {
     "name": "stderr",
     "output_type": "stream",
     "text": [
      "The operation couldn’t be completed. Unable to locate a Java Runtime.\n",
      "Please visit http://www.java.com for information on installing Java.\n",
      "\n",
      "Processing pages:  17%|█▋        | 14/84 [00:10<00:48,  1.44it/s]"
     ]
    },
    {
     "name": "stdout",
     "output_type": "stream",
     "text": [
      "[warn] tabula failed on page 13: Command '['/usr/libexec/java_home']' returned non-zero exit status 1.\n",
      "[Page 13] 4 images found\n",
      "  → 0.97% of page\n",
      "  → 0.2% of page\n",
      "  → 3.4% of page\n",
      "  → 4.46% of page\n",
      "🗑️ Skipped small image on page 13: 0.97% of page\n",
      "🗑️ Skipped small image on page 13: 0.2% of page\n"
     ]
    },
    {
     "name": "stderr",
     "output_type": "stream",
     "text": [
      "The operation couldn’t be completed. Unable to locate a Java Runtime.\n",
      "Please visit http://www.java.com for information on installing Java.\n",
      "\n",
      "Processing pages:  18%|█▊        | 15/84 [00:11<00:46,  1.48it/s]"
     ]
    },
    {
     "name": "stdout",
     "output_type": "stream",
     "text": [
      "[warn] tabula failed on page 14: Command '['/usr/libexec/java_home']' returned non-zero exit status 1.\n",
      "[Page 14] 5 images found\n",
      "  → 0.2% of page\n",
      "  → 0.97% of page\n",
      "  → 4.79% of page\n",
      "  → 3.31% of page\n",
      "  → 2.53% of page\n",
      "🗑️ Skipped small image on page 14: 0.2% of page\n",
      "🗑️ Skipped small image on page 14: 0.97% of page\n"
     ]
    },
    {
     "name": "stderr",
     "output_type": "stream",
     "text": [
      "The operation couldn’t be completed. Unable to locate a Java Runtime.\n",
      "Please visit http://www.java.com for information on installing Java.\n",
      "\n",
      "Processing pages:  19%|█▉        | 16/84 [00:11<00:44,  1.52it/s]"
     ]
    },
    {
     "name": "stdout",
     "output_type": "stream",
     "text": [
      "[warn] tabula failed on page 15: Command '['/usr/libexec/java_home']' returned non-zero exit status 1.\n",
      "[Page 15] 6 images found\n",
      "  → 0.97% of page\n",
      "  → 0.2% of page\n",
      "  → 3.99% of page\n",
      "  → 4.92% of page\n",
      "  → 2.18% of page\n",
      "  → 6.78% of page\n",
      "🗑️ Skipped small image on page 15: 0.97% of page\n",
      "🗑️ Skipped small image on page 15: 0.2% of page\n"
     ]
    },
    {
     "name": "stderr",
     "output_type": "stream",
     "text": [
      "The operation couldn’t be completed. Unable to locate a Java Runtime.\n",
      "Please visit http://www.java.com for information on installing Java.\n",
      "\n",
      "Processing pages:  20%|██        | 17/84 [00:12<00:43,  1.54it/s]"
     ]
    },
    {
     "name": "stdout",
     "output_type": "stream",
     "text": [
      "[warn] tabula failed on page 16: Command '['/usr/libexec/java_home']' returned non-zero exit status 1.\n",
      "[Page 16] 7 images found\n",
      "  → 0.2% of page\n",
      "  → 0.97% of page\n",
      "  → 3.72% of page\n",
      "  → 9.11% of page\n",
      "  → 8.96% of page\n",
      "  → 9.05% of page\n",
      "  → 8.96% of page\n",
      "🗑️ Skipped small image on page 16: 0.2% of page\n",
      "🗑️ Skipped small image on page 16: 0.97% of page\n"
     ]
    },
    {
     "name": "stderr",
     "output_type": "stream",
     "text": [
      "The operation couldn’t be completed. Unable to locate a Java Runtime.\n",
      "Please visit http://www.java.com for information on installing Java.\n",
      "\n",
      "Processing pages:  21%|██▏       | 18/84 [00:13<00:43,  1.53it/s]"
     ]
    },
    {
     "name": "stdout",
     "output_type": "stream",
     "text": [
      "[warn] tabula failed on page 17: Command '['/usr/libexec/java_home']' returned non-zero exit status 1.\n",
      "[Page 17] 12 images found\n",
      "  → 0.97% of page\n",
      "  → 0.2% of page\n",
      "  → 0.17% of page\n",
      "  → 0.16% of page\n",
      "  → 0.17% of page\n",
      "  → 0.16% of page\n",
      "  → 0.52% of page\n",
      "  → 0.52% of page\n",
      "  → 2.04% of page\n",
      "  → 2.04% of page\n",
      "  → 2.23% of page\n",
      "  → 2.23% of page\n",
      "🗑️ Skipped small image on page 17: 0.97% of page\n",
      "🗑️ Skipped small image on page 17: 0.2% of page\n",
      "🗑️ Skipped small image on page 17: 0.17% of page\n",
      "🗑️ Skipped small image on page 17: 0.16% of page\n",
      "🗑️ Skipped small image on page 17: 0.52% of page\n"
     ]
    },
    {
     "name": "stderr",
     "output_type": "stream",
     "text": [
      "The operation couldn’t be completed. Unable to locate a Java Runtime.\n",
      "Please visit http://www.java.com for information on installing Java.\n",
      "\n"
     ]
    },
    {
     "name": "stdout",
     "output_type": "stream",
     "text": [
      "[warn] tabula failed on page 18: Command '['/usr/libexec/java_home']' returned non-zero exit status 1.\n",
      "[Page 18] 3 images found\n",
      "  → 0.2% of page\n",
      "  → 0.97% of page\n",
      "  → 0.2% of page\n"
     ]
    },
    {
     "name": "stderr",
     "output_type": "stream",
     "text": [
      "Processing pages:  23%|██▎       | 19/84 [00:13<00:44,  1.47it/s]"
     ]
    },
    {
     "name": "stdout",
     "output_type": "stream",
     "text": [
      "🗑️ Skipped small image on page 18: 0.2% of page\n",
      "🗑️ Skipped small image on page 18: 0.97% of page\n",
      "🗑️ Skipped small image on page 18: 0.2% of page\n"
     ]
    },
    {
     "name": "stderr",
     "output_type": "stream",
     "text": [
      "The operation couldn’t be completed. Unable to locate a Java Runtime.\n",
      "Please visit http://www.java.com for information on installing Java.\n",
      "\n",
      "Processing pages:  24%|██▍       | 20/84 [00:14<00:42,  1.52it/s]"
     ]
    },
    {
     "name": "stdout",
     "output_type": "stream",
     "text": [
      "[warn] tabula failed on page 19: Command '['/usr/libexec/java_home']' returned non-zero exit status 1.\n",
      "[Page 19] 4 images found\n",
      "  → 0.97% of page\n",
      "  → 0.2% of page\n",
      "  → 5.66% of page\n",
      "  → 0.16% of page\n",
      "🗑️ Skipped small image on page 19: 0.97% of page\n",
      "🗑️ Skipped small image on page 19: 0.2% of page\n",
      "🗑️ Skipped small image on page 19: 0.16% of page\n"
     ]
    },
    {
     "name": "stderr",
     "output_type": "stream",
     "text": [
      "The operation couldn’t be completed. Unable to locate a Java Runtime.\n",
      "Please visit http://www.java.com for information on installing Java.\n",
      "\n",
      "Processing pages:  25%|██▌       | 21/84 [00:15<00:40,  1.57it/s]"
     ]
    },
    {
     "name": "stdout",
     "output_type": "stream",
     "text": [
      "[warn] tabula failed on page 20: Command '['/usr/libexec/java_home']' returned non-zero exit status 1.\n",
      "[Page 20] 8 images found\n",
      "  → 0.2% of page\n",
      "  → 0.97% of page\n",
      "  → 0.2% of page\n",
      "  → 2.2% of page\n",
      "  → 2.22% of page\n",
      "  → 2.22% of page\n",
      "  → 2.2% of page\n",
      "  → 2.17% of page\n",
      "🗑️ Skipped small image on page 20: 0.2% of page\n",
      "🗑️ Skipped small image on page 20: 0.97% of page\n",
      "🗑️ Skipped small image on page 20: 0.2% of page\n"
     ]
    },
    {
     "name": "stderr",
     "output_type": "stream",
     "text": [
      "The operation couldn’t be completed. Unable to locate a Java Runtime.\n",
      "Please visit http://www.java.com for information on installing Java.\n",
      "\n",
      "Processing pages:  26%|██▌       | 22/84 [00:15<00:39,  1.55it/s]"
     ]
    },
    {
     "name": "stdout",
     "output_type": "stream",
     "text": [
      "[warn] tabula failed on page 21: Command '['/usr/libexec/java_home']' returned non-zero exit status 1.\n",
      "[Page 21] 3 images found\n",
      "  → 0.97% of page\n",
      "  → 0.2% of page\n",
      "  → 0.2% of page\n",
      "🗑️ Skipped small image on page 21: 0.97% of page\n",
      "🗑️ Skipped small image on page 21: 0.2% of page\n",
      "🗑️ Skipped small image on page 21: 0.2% of page\n"
     ]
    },
    {
     "name": "stderr",
     "output_type": "stream",
     "text": [
      "The operation couldn’t be completed. Unable to locate a Java Runtime.\n",
      "Please visit http://www.java.com for information on installing Java.\n",
      "\n",
      "Processing pages:  27%|██▋       | 23/84 [00:16<00:37,  1.62it/s]"
     ]
    },
    {
     "name": "stdout",
     "output_type": "stream",
     "text": [
      "[warn] tabula failed on page 22: Command '['/usr/libexec/java_home']' returned non-zero exit status 1.\n",
      "[Page 22] 2 images found\n",
      "  → 0.2% of page\n",
      "  → 0.97% of page\n",
      "🗑️ Skipped small image on page 22: 0.2% of page\n",
      "🗑️ Skipped small image on page 22: 0.97% of page\n"
     ]
    },
    {
     "name": "stderr",
     "output_type": "stream",
     "text": [
      "The operation couldn’t be completed. Unable to locate a Java Runtime.\n",
      "Please visit http://www.java.com for information on installing Java.\n",
      "\n",
      "Processing pages:  29%|██▊       | 24/84 [00:16<00:37,  1.60it/s]"
     ]
    },
    {
     "name": "stdout",
     "output_type": "stream",
     "text": [
      "[warn] tabula failed on page 23: Command '['/usr/libexec/java_home']' returned non-zero exit status 1.\n",
      "[Page 23] 4 images found\n",
      "  → 0.97% of page\n",
      "  → 0.2% of page\n",
      "  → 0.16% of page\n",
      "  → 0.16% of page\n",
      "🗑️ Skipped small image on page 23: 0.97% of page\n",
      "🗑️ Skipped small image on page 23: 0.2% of page\n",
      "🗑️ Skipped small image on page 23: 0.16% of page\n"
     ]
    },
    {
     "name": "stderr",
     "output_type": "stream",
     "text": [
      "The operation couldn’t be completed. Unable to locate a Java Runtime.\n",
      "Please visit http://www.java.com for information on installing Java.\n",
      "\n",
      "Processing pages:  30%|██▉       | 25/84 [00:17<00:39,  1.50it/s]"
     ]
    },
    {
     "name": "stdout",
     "output_type": "stream",
     "text": [
      "[warn] tabula failed on page 24: Command '['/usr/libexec/java_home']' returned non-zero exit status 1.\n",
      "[Page 24] 5 images found\n",
      "  → 0.2% of page\n",
      "  → 0.97% of page\n",
      "  → 0.16% of page\n",
      "  → 0.2% of page\n",
      "  → 12.66% of page\n",
      "🗑️ Skipped small image on page 24: 0.2% of page\n",
      "🗑️ Skipped small image on page 24: 0.97% of page\n",
      "🗑️ Skipped small image on page 24: 0.16% of page\n",
      "🗑️ Skipped small image on page 24: 0.2% of page\n"
     ]
    },
    {
     "name": "stderr",
     "output_type": "stream",
     "text": [
      "The operation couldn’t be completed. Unable to locate a Java Runtime.\n",
      "Please visit http://www.java.com for information on installing Java.\n",
      "\n",
      "Processing pages:  31%|███       | 26/84 [00:18<00:40,  1.44it/s]"
     ]
    },
    {
     "name": "stdout",
     "output_type": "stream",
     "text": [
      "[warn] tabula failed on page 25: Command '['/usr/libexec/java_home']' returned non-zero exit status 1.\n",
      "[Page 25] 3 images found\n",
      "  → 0.97% of page\n",
      "  → 0.2% of page\n",
      "  → 0.16% of page\n",
      "🗑️ Skipped small image on page 25: 0.97% of page\n",
      "🗑️ Skipped small image on page 25: 0.2% of page\n",
      "🗑️ Skipped small image on page 25: 0.16% of page\n"
     ]
    },
    {
     "name": "stderr",
     "output_type": "stream",
     "text": [
      "The operation couldn’t be completed. Unable to locate a Java Runtime.\n",
      "Please visit http://www.java.com for information on installing Java.\n",
      "\n",
      "Processing pages:  32%|███▏      | 27/84 [00:19<00:37,  1.52it/s]"
     ]
    },
    {
     "name": "stdout",
     "output_type": "stream",
     "text": [
      "[warn] tabula failed on page 26: Command '['/usr/libexec/java_home']' returned non-zero exit status 1.\n",
      "[Page 26] 3 images found\n",
      "  → 0.2% of page\n",
      "  → 0.97% of page\n",
      "  → 0.2% of page\n",
      "🗑️ Skipped small image on page 26: 0.2% of page\n",
      "🗑️ Skipped small image on page 26: 0.97% of page\n",
      "🗑️ Skipped small image on page 26: 0.2% of page\n"
     ]
    },
    {
     "name": "stderr",
     "output_type": "stream",
     "text": [
      "The operation couldn’t be completed. Unable to locate a Java Runtime.\n",
      "Please visit http://www.java.com for information on installing Java.\n",
      "\n",
      "Processing pages:  33%|███▎      | 28/84 [00:19<00:36,  1.55it/s]"
     ]
    },
    {
     "name": "stdout",
     "output_type": "stream",
     "text": [
      "[warn] tabula failed on page 27: Command '['/usr/libexec/java_home']' returned non-zero exit status 1.\n",
      "[Page 27] 4 images found\n",
      "  → 0.97% of page\n",
      "  → 0.2% of page\n",
      "  → 5.7% of page\n",
      "  → 3.69% of page\n",
      "🗑️ Skipped small image on page 27: 0.97% of page\n",
      "🗑️ Skipped small image on page 27: 0.2% of page\n"
     ]
    },
    {
     "name": "stderr",
     "output_type": "stream",
     "text": [
      "The operation couldn’t be completed. Unable to locate a Java Runtime.\n",
      "Please visit http://www.java.com for information on installing Java.\n",
      "\n",
      "Processing pages:  35%|███▍      | 29/84 [00:20<00:35,  1.53it/s]"
     ]
    },
    {
     "name": "stdout",
     "output_type": "stream",
     "text": [
      "[warn] tabula failed on page 28: Command '['/usr/libexec/java_home']' returned non-zero exit status 1.\n",
      "[Page 28] 8 images found\n",
      "  → 0.2% of page\n",
      "  → 0.97% of page\n",
      "  → 0.16% of page\n",
      "  → 0.2% of page\n",
      "  → 0.2% of page\n",
      "  → 0.16% of page\n",
      "  → 3.65% of page\n",
      "  → 1.62% of page\n",
      "🗑️ Skipped small image on page 28: 0.2% of page\n",
      "🗑️ Skipped small image on page 28: 0.97% of page\n",
      "🗑️ Skipped small image on page 28: 0.16% of page\n",
      "🗑️ Skipped small image on page 28: 0.2% of page\n"
     ]
    },
    {
     "name": "stderr",
     "output_type": "stream",
     "text": [
      "The operation couldn’t be completed. Unable to locate a Java Runtime.\n",
      "Please visit http://www.java.com for information on installing Java.\n",
      "\n"
     ]
    },
    {
     "name": "stdout",
     "output_type": "stream",
     "text": [
      "[warn] tabula failed on page 29: Command '['/usr/libexec/java_home']' returned non-zero exit status 1.\n",
      "[Page 29] 5 images found\n",
      "  → 0.97% of page\n",
      "  → 0.2% of page\n",
      "  → 6.13% of page\n",
      "  → 2.44% of page\n",
      "  → 4.41% of page\n"
     ]
    },
    {
     "name": "stderr",
     "output_type": "stream",
     "text": [
      "Processing pages:  36%|███▌      | 30/84 [00:21<00:36,  1.47it/s]"
     ]
    },
    {
     "name": "stdout",
     "output_type": "stream",
     "text": [
      "🗑️ Skipped small image on page 29: 0.97% of page\n",
      "🗑️ Skipped small image on page 29: 0.2% of page\n"
     ]
    },
    {
     "name": "stderr",
     "output_type": "stream",
     "text": [
      "The operation couldn’t be completed. Unable to locate a Java Runtime.\n",
      "Please visit http://www.java.com for information on installing Java.\n",
      "\n",
      "Processing pages:  37%|███▋      | 31/84 [00:21<00:34,  1.52it/s]"
     ]
    },
    {
     "name": "stdout",
     "output_type": "stream",
     "text": [
      "[warn] tabula failed on page 30: Command '['/usr/libexec/java_home']' returned non-zero exit status 1.\n",
      "[Page 30] 4 images found\n",
      "  → 0.2% of page\n",
      "  → 0.97% of page\n",
      "  → 4.7% of page\n",
      "  → 5.46% of page\n",
      "🗑️ Skipped small image on page 30: 0.2% of page\n",
      "🗑️ Skipped small image on page 30: 0.97% of page\n"
     ]
    },
    {
     "name": "stderr",
     "output_type": "stream",
     "text": [
      "The operation couldn’t be completed. Unable to locate a Java Runtime.\n",
      "Please visit http://www.java.com for information on installing Java.\n",
      "\n",
      "Processing pages:  38%|███▊      | 32/84 [00:22<00:34,  1.52it/s]"
     ]
    },
    {
     "name": "stdout",
     "output_type": "stream",
     "text": [
      "[warn] tabula failed on page 31: Command '['/usr/libexec/java_home']' returned non-zero exit status 1.\n",
      "[Page 31] 3 images found\n",
      "  → 0.97% of page\n",
      "  → 0.2% of page\n",
      "  → 14.99% of page\n",
      "🗑️ Skipped small image on page 31: 0.97% of page\n",
      "🗑️ Skipped small image on page 31: 0.2% of page\n"
     ]
    },
    {
     "name": "stderr",
     "output_type": "stream",
     "text": [
      "The operation couldn’t be completed. Unable to locate a Java Runtime.\n",
      "Please visit http://www.java.com for information on installing Java.\n",
      "\n",
      "Processing pages:  39%|███▉      | 33/84 [00:22<00:33,  1.55it/s]"
     ]
    },
    {
     "name": "stdout",
     "output_type": "stream",
     "text": [
      "[warn] tabula failed on page 32: Command '['/usr/libexec/java_home']' returned non-zero exit status 1.\n",
      "[Page 32] 4 images found\n",
      "  → 0.2% of page\n",
      "  → 0.97% of page\n",
      "  → 3.78% of page\n",
      "  → 4.91% of page\n",
      "🗑️ Skipped small image on page 32: 0.2% of page\n",
      "🗑️ Skipped small image on page 32: 0.97% of page\n"
     ]
    },
    {
     "name": "stderr",
     "output_type": "stream",
     "text": [
      "The operation couldn’t be completed. Unable to locate a Java Runtime.\n",
      "Please visit http://www.java.com for information on installing Java.\n",
      "\n",
      "Processing pages:  40%|████      | 34/84 [00:23<00:32,  1.53it/s]"
     ]
    },
    {
     "name": "stdout",
     "output_type": "stream",
     "text": [
      "[warn] tabula failed on page 33: Command '['/usr/libexec/java_home']' returned non-zero exit status 1.\n",
      "[Page 33] 5 images found\n",
      "  → 0.97% of page\n",
      "  → 0.2% of page\n",
      "  → 5.89% of page\n",
      "  → 6.92% of page\n",
      "  → 8.44% of page\n",
      "🗑️ Skipped small image on page 33: 0.97% of page\n",
      "🗑️ Skipped small image on page 33: 0.2% of page\n"
     ]
    },
    {
     "name": "stderr",
     "output_type": "stream",
     "text": [
      "The operation couldn’t be completed. Unable to locate a Java Runtime.\n",
      "Please visit http://www.java.com for information on installing Java.\n",
      "\n",
      "Processing pages:  42%|████▏     | 35/84 [00:24<00:31,  1.56it/s]"
     ]
    },
    {
     "name": "stdout",
     "output_type": "stream",
     "text": [
      "[warn] tabula failed on page 34: Command '['/usr/libexec/java_home']' returned non-zero exit status 1.\n",
      "[Page 34] 5 images found\n",
      "  → 0.2% of page\n",
      "  → 0.97% of page\n",
      "  → 0.16% of page\n",
      "  → 10.3% of page\n",
      "  → 3.61% of page\n",
      "🗑️ Skipped small image on page 34: 0.2% of page\n",
      "🗑️ Skipped small image on page 34: 0.97% of page\n",
      "🗑️ Skipped small image on page 34: 0.16% of page\n"
     ]
    },
    {
     "name": "stderr",
     "output_type": "stream",
     "text": [
      "The operation couldn’t be completed. Unable to locate a Java Runtime.\n",
      "Please visit http://www.java.com for information on installing Java.\n",
      "\n"
     ]
    },
    {
     "name": "stdout",
     "output_type": "stream",
     "text": [
      "[warn] tabula failed on page 35: Command '['/usr/libexec/java_home']' returned non-zero exit status 1.\n",
      "[Page 35] 2 images found\n",
      "  → 0.97% of page\n",
      "  → 0.2% of page\n",
      "🗑️ Skipped small image on page 35: 0.97% of page\n",
      "🗑️ Skipped small image on page 35: 0.2% of page\n"
     ]
    },
    {
     "name": "stderr",
     "output_type": "stream",
     "text": [
      "Processing pages:  43%|████▎     | 36/84 [00:25<00:33,  1.41it/s]The operation couldn’t be completed. Unable to locate a Java Runtime.\n",
      "Please visit http://www.java.com for information on installing Java.\n",
      "\n"
     ]
    },
    {
     "name": "stdout",
     "output_type": "stream",
     "text": [
      "[warn] tabula failed on page 36: Command '['/usr/libexec/java_home']' returned non-zero exit status 1.\n",
      "[Page 36] 2 images found\n",
      "  → 0.2% of page\n",
      "  → 0.97% of page\n"
     ]
    },
    {
     "name": "stderr",
     "output_type": "stream",
     "text": [
      "Processing pages:  44%|████▍     | 37/84 [00:25<00:34,  1.38it/s]"
     ]
    },
    {
     "name": "stdout",
     "output_type": "stream",
     "text": [
      "🗑️ Skipped small image on page 36: 0.2% of page\n",
      "🗑️ Skipped small image on page 36: 0.97% of page\n"
     ]
    },
    {
     "name": "stderr",
     "output_type": "stream",
     "text": [
      "The operation couldn’t be completed. Unable to locate a Java Runtime.\n",
      "Please visit http://www.java.com for information on installing Java.\n",
      "\n"
     ]
    },
    {
     "name": "stdout",
     "output_type": "stream",
     "text": [
      "[warn] tabula failed on page 37: Command '['/usr/libexec/java_home']' returned non-zero exit status 1.\n"
     ]
    },
    {
     "name": "stderr",
     "output_type": "stream",
     "text": [
      "Processing pages:  45%|████▌     | 38/84 [00:26<00:35,  1.30it/s]"
     ]
    },
    {
     "name": "stdout",
     "output_type": "stream",
     "text": [
      "[Page 37] 4 images found\n",
      "  → 0.97% of page\n",
      "  → 0.2% of page\n",
      "  → 0.16% of page\n",
      "  → 0.13% of page\n",
      "🗑️ Skipped small image on page 37: 0.97% of page\n",
      "🗑️ Skipped small image on page 37: 0.2% of page\n",
      "🗑️ Skipped small image on page 37: 0.16% of page\n",
      "🗑️ Skipped small image on page 37: 0.13% of page\n"
     ]
    },
    {
     "name": "stderr",
     "output_type": "stream",
     "text": [
      "The operation couldn’t be completed. Unable to locate a Java Runtime.\n",
      "Please visit http://www.java.com for information on installing Java.\n",
      "\n",
      "Processing pages:  46%|████▋     | 39/84 [00:27<00:32,  1.37it/s]"
     ]
    },
    {
     "name": "stdout",
     "output_type": "stream",
     "text": [
      "[warn] tabula failed on page 38: Command '['/usr/libexec/java_home']' returned non-zero exit status 1.\n",
      "[Page 38] 5 images found\n",
      "  → 0.2% of page\n",
      "  → 0.97% of page\n",
      "  → 0.16% of page\n",
      "  → 0.16% of page\n",
      "  → 4.77% of page\n",
      "🗑️ Skipped small image on page 38: 0.2% of page\n",
      "🗑️ Skipped small image on page 38: 0.97% of page\n",
      "🗑️ Skipped small image on page 38: 0.16% of page\n"
     ]
    },
    {
     "name": "stderr",
     "output_type": "stream",
     "text": [
      "The operation couldn’t be completed. Unable to locate a Java Runtime.\n",
      "Please visit http://www.java.com for information on installing Java.\n",
      "\n",
      "Processing pages:  48%|████▊     | 40/84 [00:28<00:31,  1.40it/s]"
     ]
    },
    {
     "name": "stdout",
     "output_type": "stream",
     "text": [
      "[warn] tabula failed on page 39: Command '['/usr/libexec/java_home']' returned non-zero exit status 1.\n",
      "[Page 39] 3 images found\n",
      "  → 0.97% of page\n",
      "  → 0.2% of page\n",
      "  → 5.7% of page\n",
      "🗑️ Skipped small image on page 39: 0.97% of page\n",
      "🗑️ Skipped small image on page 39: 0.2% of page\n"
     ]
    },
    {
     "name": "stderr",
     "output_type": "stream",
     "text": [
      "The operation couldn’t be completed. Unable to locate a Java Runtime.\n",
      "Please visit http://www.java.com for information on installing Java.\n",
      "\n"
     ]
    },
    {
     "name": "stdout",
     "output_type": "stream",
     "text": [
      "[warn] tabula failed on page 40: Command '['/usr/libexec/java_home']' returned non-zero exit status 1.\n"
     ]
    },
    {
     "name": "stderr",
     "output_type": "stream",
     "text": [
      "Processing pages:  49%|████▉     | 41/84 [00:28<00:32,  1.32it/s]"
     ]
    },
    {
     "name": "stdout",
     "output_type": "stream",
     "text": [
      "[Page 40] 4 images found\n",
      "  → 0.2% of page\n",
      "  → 0.97% of page\n",
      "  → 0.16% of page\n",
      "  → 0.16% of page\n",
      "🗑️ Skipped small image on page 40: 0.2% of page\n",
      "🗑️ Skipped small image on page 40: 0.97% of page\n",
      "🗑️ Skipped small image on page 40: 0.16% of page\n"
     ]
    },
    {
     "name": "stderr",
     "output_type": "stream",
     "text": [
      "The operation couldn’t be completed. Unable to locate a Java Runtime.\n",
      "Please visit http://www.java.com for information on installing Java.\n",
      "\n"
     ]
    },
    {
     "name": "stdout",
     "output_type": "stream",
     "text": [
      "[warn] tabula failed on page 41: Command '['/usr/libexec/java_home']' returned non-zero exit status 1.\n"
     ]
    },
    {
     "name": "stderr",
     "output_type": "stream",
     "text": [
      "Processing pages:  50%|█████     | 42/84 [00:29<00:33,  1.25it/s]"
     ]
    },
    {
     "name": "stdout",
     "output_type": "stream",
     "text": [
      "[Page 41] 2 images found\n",
      "  → 0.97% of page\n",
      "  → 0.2% of page\n",
      "🗑️ Skipped small image on page 41: 0.97% of page\n",
      "🗑️ Skipped small image on page 41: 0.2% of page\n"
     ]
    },
    {
     "name": "stderr",
     "output_type": "stream",
     "text": [
      "The operation couldn’t be completed. Unable to locate a Java Runtime.\n",
      "Please visit http://www.java.com for information on installing Java.\n",
      "\n",
      "Processing pages:  51%|█████     | 43/84 [00:30<00:30,  1.34it/s]"
     ]
    },
    {
     "name": "stdout",
     "output_type": "stream",
     "text": [
      "[warn] tabula failed on page 42: Command '['/usr/libexec/java_home']' returned non-zero exit status 1.\n",
      "[Page 42] 5 images found\n",
      "  → 0.2% of page\n",
      "  → 0.97% of page\n",
      "  → 0.14% of page\n",
      "  → 0.14% of page\n",
      "  → 7.41% of page\n",
      "🗑️ Skipped small image on page 42: 0.2% of page\n",
      "🗑️ Skipped small image on page 42: 0.97% of page\n",
      "🗑️ Skipped small image on page 42: 0.14% of page\n"
     ]
    },
    {
     "name": "stderr",
     "output_type": "stream",
     "text": [
      "The operation couldn’t be completed. Unable to locate a Java Runtime.\n",
      "Please visit http://www.java.com for information on installing Java.\n",
      "\n",
      "Processing pages:  52%|█████▏    | 44/84 [00:31<00:29,  1.34it/s]"
     ]
    },
    {
     "name": "stdout",
     "output_type": "stream",
     "text": [
      "[warn] tabula failed on page 43: Command '['/usr/libexec/java_home']' returned non-zero exit status 1.\n",
      "[Page 43] 3 images found\n",
      "  → 0.97% of page\n",
      "  → 0.2% of page\n",
      "  → 7.4% of page\n",
      "🗑️ Skipped small image on page 43: 0.97% of page\n",
      "🗑️ Skipped small image on page 43: 0.2% of page\n"
     ]
    },
    {
     "name": "stderr",
     "output_type": "stream",
     "text": [
      "The operation couldn’t be completed. Unable to locate a Java Runtime.\n",
      "Please visit http://www.java.com for information on installing Java.\n",
      "\n",
      "Processing pages:  54%|█████▎    | 45/84 [00:31<00:28,  1.37it/s]"
     ]
    },
    {
     "name": "stdout",
     "output_type": "stream",
     "text": [
      "[warn] tabula failed on page 44: Command '['/usr/libexec/java_home']' returned non-zero exit status 1.\n",
      "[Page 44] 3 images found\n",
      "  → 0.2% of page\n",
      "  → 0.97% of page\n",
      "  → 0.16% of page\n",
      "🗑️ Skipped small image on page 44: 0.2% of page\n",
      "🗑️ Skipped small image on page 44: 0.97% of page\n",
      "🗑️ Skipped small image on page 44: 0.16% of page\n"
     ]
    },
    {
     "name": "stderr",
     "output_type": "stream",
     "text": [
      "The operation couldn’t be completed. Unable to locate a Java Runtime.\n",
      "Please visit http://www.java.com for information on installing Java.\n",
      "\n",
      "Processing pages:  55%|█████▍    | 46/84 [00:32<00:27,  1.40it/s]"
     ]
    },
    {
     "name": "stdout",
     "output_type": "stream",
     "text": [
      "[warn] tabula failed on page 45: Command '['/usr/libexec/java_home']' returned non-zero exit status 1.\n",
      "[Page 45] 7 images found\n",
      "  → 0.97% of page\n",
      "  → 0.2% of page\n",
      "  → 0.2% of page\n",
      "  → 0.2% of page\n",
      "  → 0.16% of page\n",
      "  → 0.16% of page\n",
      "  → 2.99% of page\n",
      "🗑️ Skipped small image on page 45: 0.97% of page\n",
      "🗑️ Skipped small image on page 45: 0.2% of page\n",
      "🗑️ Skipped small image on page 45: 0.2% of page\n",
      "🗑️ Skipped small image on page 45: 0.16% of page\n"
     ]
    },
    {
     "name": "stderr",
     "output_type": "stream",
     "text": [
      "The operation couldn’t be completed. Unable to locate a Java Runtime.\n",
      "Please visit http://www.java.com for information on installing Java.\n",
      "\n"
     ]
    },
    {
     "name": "stdout",
     "output_type": "stream",
     "text": [
      "[warn] tabula failed on page 46: Command '['/usr/libexec/java_home']' returned non-zero exit status 1.\n",
      "[Page 46] 5 images found\n",
      "  → 0.2% of page\n",
      "  → 0.97% of page\n",
      "  → 0.16% of page\n",
      "  → 8.53% of page\n",
      "  → 0.16% of page\n"
     ]
    },
    {
     "name": "stderr",
     "output_type": "stream",
     "text": [
      "Processing pages:  56%|█████▌    | 47/84 [00:33<00:27,  1.37it/s]"
     ]
    },
    {
     "name": "stdout",
     "output_type": "stream",
     "text": [
      "🗑️ Skipped small image on page 46: 0.2% of page\n",
      "🗑️ Skipped small image on page 46: 0.97% of page\n",
      "🗑️ Skipped small image on page 46: 0.16% of page\n"
     ]
    },
    {
     "name": "stderr",
     "output_type": "stream",
     "text": [
      "The operation couldn’t be completed. Unable to locate a Java Runtime.\n",
      "Please visit http://www.java.com for information on installing Java.\n",
      "\n",
      "Processing pages:  57%|█████▋    | 48/84 [00:33<00:24,  1.47it/s]"
     ]
    },
    {
     "name": "stdout",
     "output_type": "stream",
     "text": [
      "[warn] tabula failed on page 47: Command '['/usr/libexec/java_home']' returned non-zero exit status 1.\n",
      "[Page 47] 3 images found\n",
      "  → 0.97% of page\n",
      "  → 0.2% of page\n",
      "  → 0.2% of page\n",
      "🗑️ Skipped small image on page 47: 0.97% of page\n",
      "🗑️ Skipped small image on page 47: 0.2% of page\n",
      "🗑️ Skipped small image on page 47: 0.2% of page\n"
     ]
    },
    {
     "name": "stderr",
     "output_type": "stream",
     "text": [
      "The operation couldn’t be completed. Unable to locate a Java Runtime.\n",
      "Please visit http://www.java.com for information on installing Java.\n",
      "\n",
      "Processing pages:  58%|█████▊    | 49/84 [00:34<00:23,  1.52it/s]"
     ]
    },
    {
     "name": "stdout",
     "output_type": "stream",
     "text": [
      "[warn] tabula failed on page 48: Command '['/usr/libexec/java_home']' returned non-zero exit status 1.\n",
      "[Page 48] 4 images found\n",
      "  → 0.2% of page\n",
      "  → 0.97% of page\n",
      "  → 7.58% of page\n",
      "  → 6.19% of page\n",
      "🗑️ Skipped small image on page 48: 0.2% of page\n",
      "🗑️ Skipped small image on page 48: 0.97% of page\n"
     ]
    },
    {
     "name": "stderr",
     "output_type": "stream",
     "text": [
      "The operation couldn’t be completed. Unable to locate a Java Runtime.\n",
      "Please visit http://www.java.com for information on installing Java.\n",
      "\n",
      "Processing pages:  60%|█████▉    | 50/84 [00:35<00:22,  1.53it/s]"
     ]
    },
    {
     "name": "stdout",
     "output_type": "stream",
     "text": [
      "[warn] tabula failed on page 49: Command '['/usr/libexec/java_home']' returned non-zero exit status 1.\n",
      "[Page 49] 5 images found\n",
      "  → 0.97% of page\n",
      "  → 0.2% of page\n",
      "  → 10.84% of page\n",
      "  → 0.2% of page\n",
      "  → 4.51% of page\n",
      "🗑️ Skipped small image on page 49: 0.97% of page\n",
      "🗑️ Skipped small image on page 49: 0.2% of page\n",
      "🗑️ Skipped small image on page 49: 0.2% of page\n"
     ]
    },
    {
     "name": "stderr",
     "output_type": "stream",
     "text": [
      "The operation couldn’t be completed. Unable to locate a Java Runtime.\n",
      "Please visit http://www.java.com for information on installing Java.\n",
      "\n",
      "Processing pages:  61%|██████    | 51/84 [00:35<00:21,  1.54it/s]"
     ]
    },
    {
     "name": "stdout",
     "output_type": "stream",
     "text": [
      "[warn] tabula failed on page 50: Command '['/usr/libexec/java_home']' returned non-zero exit status 1.\n",
      "[Page 50] 4 images found\n",
      "  → 0.2% of page\n",
      "  → 0.97% of page\n",
      "  → 0.2% of page\n",
      "  → 0.16% of page\n",
      "🗑️ Skipped small image on page 50: 0.2% of page\n",
      "🗑️ Skipped small image on page 50: 0.97% of page\n",
      "🗑️ Skipped small image on page 50: 0.2% of page\n",
      "🗑️ Skipped small image on page 50: 0.16% of page\n"
     ]
    },
    {
     "name": "stderr",
     "output_type": "stream",
     "text": [
      "The operation couldn’t be completed. Unable to locate a Java Runtime.\n",
      "Please visit http://www.java.com for information on installing Java.\n",
      "\n",
      "Processing pages:  62%|██████▏   | 52/84 [00:36<00:20,  1.58it/s]"
     ]
    },
    {
     "name": "stdout",
     "output_type": "stream",
     "text": [
      "[warn] tabula failed on page 51: Command '['/usr/libexec/java_home']' returned non-zero exit status 1.\n",
      "[Page 51] 4 images found\n",
      "  → 0.97% of page\n",
      "  → 0.2% of page\n",
      "  → 0.16% of page\n",
      "  → 0.16% of page\n",
      "🗑️ Skipped small image on page 51: 0.97% of page\n",
      "🗑️ Skipped small image on page 51: 0.2% of page\n",
      "🗑️ Skipped small image on page 51: 0.16% of page\n"
     ]
    },
    {
     "name": "stderr",
     "output_type": "stream",
     "text": [
      "The operation couldn’t be completed. Unable to locate a Java Runtime.\n",
      "Please visit http://www.java.com for information on installing Java.\n",
      "\n"
     ]
    },
    {
     "name": "stdout",
     "output_type": "stream",
     "text": [
      "[warn] tabula failed on page 52: Command '['/usr/libexec/java_home']' returned non-zero exit status 1.\n",
      "[Page 52] 3 images found\n",
      "  → 0.2% of page\n",
      "  → 0.97% of page\n",
      "  → 27.93% of page\n"
     ]
    },
    {
     "name": "stderr",
     "output_type": "stream",
     "text": [
      "Processing pages:  63%|██████▎   | 53/84 [00:37<00:21,  1.46it/s]"
     ]
    },
    {
     "name": "stdout",
     "output_type": "stream",
     "text": [
      "🗑️ Skipped small image on page 52: 0.2% of page\n",
      "🗑️ Skipped small image on page 52: 0.97% of page\n"
     ]
    },
    {
     "name": "stderr",
     "output_type": "stream",
     "text": [
      "The operation couldn’t be completed. Unable to locate a Java Runtime.\n",
      "Please visit http://www.java.com for information on installing Java.\n",
      "\n",
      "Processing pages:  64%|██████▍   | 54/84 [00:37<00:20,  1.49it/s]"
     ]
    },
    {
     "name": "stdout",
     "output_type": "stream",
     "text": [
      "[warn] tabula failed on page 53: Command '['/usr/libexec/java_home']' returned non-zero exit status 1.\n",
      "[Page 53] 4 images found\n",
      "  → 0.97% of page\n",
      "  → 0.2% of page\n",
      "  → 0.16% of page\n",
      "  → 3.69% of page\n",
      "🗑️ Skipped small image on page 53: 0.97% of page\n",
      "🗑️ Skipped small image on page 53: 0.2% of page\n",
      "🗑️ Skipped small image on page 53: 0.16% of page\n"
     ]
    },
    {
     "name": "stderr",
     "output_type": "stream",
     "text": [
      "The operation couldn’t be completed. Unable to locate a Java Runtime.\n",
      "Please visit http://www.java.com for information on installing Java.\n",
      "\n",
      "Processing pages:  65%|██████▌   | 55/84 [00:38<00:18,  1.54it/s]"
     ]
    },
    {
     "name": "stdout",
     "output_type": "stream",
     "text": [
      "[warn] tabula failed on page 54: Command '['/usr/libexec/java_home']' returned non-zero exit status 1.\n",
      "[Page 54] 4 images found\n",
      "  → 0.2% of page\n",
      "  → 0.97% of page\n",
      "  → 3.39% of page\n",
      "  → 5.13% of page\n",
      "🗑️ Skipped small image on page 54: 0.2% of page\n",
      "🗑️ Skipped small image on page 54: 0.97% of page\n"
     ]
    },
    {
     "name": "stderr",
     "output_type": "stream",
     "text": [
      "The operation couldn’t be completed. Unable to locate a Java Runtime.\n",
      "Please visit http://www.java.com for information on installing Java.\n",
      "\n",
      "Processing pages:  67%|██████▋   | 56/84 [00:39<00:17,  1.59it/s]"
     ]
    },
    {
     "name": "stdout",
     "output_type": "stream",
     "text": [
      "[warn] tabula failed on page 55: Command '['/usr/libexec/java_home']' returned non-zero exit status 1.\n",
      "[Page 55] 3 images found\n",
      "  → 0.97% of page\n",
      "  → 0.2% of page\n",
      "  → 6.79% of page\n",
      "🗑️ Skipped small image on page 55: 0.97% of page\n",
      "🗑️ Skipped small image on page 55: 0.2% of page\n"
     ]
    },
    {
     "name": "stderr",
     "output_type": "stream",
     "text": [
      "The operation couldn’t be completed. Unable to locate a Java Runtime.\n",
      "Please visit http://www.java.com for information on installing Java.\n",
      "\n",
      "Processing pages:  68%|██████▊   | 57/84 [00:39<00:17,  1.56it/s]"
     ]
    },
    {
     "name": "stdout",
     "output_type": "stream",
     "text": [
      "[warn] tabula failed on page 56: Command '['/usr/libexec/java_home']' returned non-zero exit status 1.\n",
      "[Page 56] 5 images found\n",
      "  → 0.2% of page\n",
      "  → 0.97% of page\n",
      "  → 18.98% of page\n",
      "  → 18.98% of page\n",
      "  → 18.97% of page\n",
      "✅ Detected composite diagram on page 56 covering 56.93%\n"
     ]
    },
    {
     "name": "stderr",
     "output_type": "stream",
     "text": [
      "The operation couldn’t be completed. Unable to locate a Java Runtime.\n",
      "Please visit http://www.java.com for information on installing Java.\n",
      "\n"
     ]
    },
    {
     "name": "stdout",
     "output_type": "stream",
     "text": [
      "[warn] tabula failed on page 57: Command '['/usr/libexec/java_home']' returned non-zero exit status 1.\n",
      "[Page 57] 5 images found\n",
      "  → 0.97% of page\n",
      "  → 0.2% of page\n",
      "  → 18.13% of page\n",
      "  → 18.13% of page\n",
      "  → 18.13% of page\n"
     ]
    },
    {
     "name": "stderr",
     "output_type": "stream",
     "text": [
      "Processing pages:  69%|██████▉   | 58/84 [00:40<00:17,  1.50it/s]"
     ]
    },
    {
     "name": "stdout",
     "output_type": "stream",
     "text": [
      "✅ Detected composite diagram on page 57 covering 54.38%\n"
     ]
    },
    {
     "name": "stderr",
     "output_type": "stream",
     "text": [
      "The operation couldn’t be completed. Unable to locate a Java Runtime.\n",
      "Please visit http://www.java.com for information on installing Java.\n",
      "\n",
      "Processing pages:  70%|███████   | 59/84 [00:41<00:16,  1.55it/s]"
     ]
    },
    {
     "name": "stdout",
     "output_type": "stream",
     "text": [
      "[warn] tabula failed on page 58: Command '['/usr/libexec/java_home']' returned non-zero exit status 1.\n",
      "[Page 58] 3 images found\n",
      "  → 0.2% of page\n",
      "  → 0.97% of page\n",
      "  → 16.9% of page\n",
      "🗑️ Skipped small image on page 58: 0.2% of page\n",
      "🗑️ Skipped small image on page 58: 0.97% of page\n"
     ]
    },
    {
     "name": "stderr",
     "output_type": "stream",
     "text": [
      "The operation couldn’t be completed. Unable to locate a Java Runtime.\n",
      "Please visit http://www.java.com for information on installing Java.\n",
      "\n",
      "Processing pages:  71%|███████▏  | 60/84 [00:41<00:16,  1.43it/s]"
     ]
    },
    {
     "name": "stdout",
     "output_type": "stream",
     "text": [
      "[warn] tabula failed on page 59: Command '['/usr/libexec/java_home']' returned non-zero exit status 1.\n",
      "[Page 59] 2 images found\n",
      "  → 0.97% of page\n",
      "  → 0.2% of page\n",
      "🗑️ Skipped small image on page 59: 0.97% of page\n",
      "🗑️ Skipped small image on page 59: 0.2% of page\n"
     ]
    },
    {
     "name": "stderr",
     "output_type": "stream",
     "text": [
      "The operation couldn’t be completed. Unable to locate a Java Runtime.\n",
      "Please visit http://www.java.com for information on installing Java.\n",
      "\n"
     ]
    },
    {
     "name": "stdout",
     "output_type": "stream",
     "text": [
      "[warn] tabula failed on page 60: Command '['/usr/libexec/java_home']' returned non-zero exit status 1.\n",
      "[Page 60] 5 images found\n",
      "  → 0.2% of page\n",
      "  → 0.97% of page\n",
      "  → 21.03% of page\n",
      "  → 21.03% of page\n",
      "  → 21.02% of page\n"
     ]
    },
    {
     "name": "stderr",
     "output_type": "stream",
     "text": [
      "Processing pages:  73%|███████▎  | 61/84 [00:42<00:15,  1.46it/s]"
     ]
    },
    {
     "name": "stdout",
     "output_type": "stream",
     "text": [
      "✅ Detected composite diagram on page 60 covering 63.08%\n"
     ]
    },
    {
     "name": "stderr",
     "output_type": "stream",
     "text": [
      "The operation couldn’t be completed. Unable to locate a Java Runtime.\n",
      "Please visit http://www.java.com for information on installing Java.\n",
      "\n",
      "Processing pages:  74%|███████▍  | 62/84 [00:43<00:15,  1.46it/s]"
     ]
    },
    {
     "name": "stdout",
     "output_type": "stream",
     "text": [
      "[warn] tabula failed on page 61: Command '['/usr/libexec/java_home']' returned non-zero exit status 1.\n",
      "[Page 61] 5 images found\n",
      "  → 0.97% of page\n",
      "  → 0.2% of page\n",
      "  → 20.55% of page\n",
      "  → 20.55% of page\n",
      "  → 20.54% of page\n",
      "✅ Detected composite diagram on page 61 covering 61.63%\n"
     ]
    },
    {
     "name": "stderr",
     "output_type": "stream",
     "text": [
      "The operation couldn’t be completed. Unable to locate a Java Runtime.\n",
      "Please visit http://www.java.com for information on installing Java.\n",
      "\n",
      "Processing pages:  75%|███████▌  | 63/84 [00:43<00:14,  1.45it/s]"
     ]
    },
    {
     "name": "stdout",
     "output_type": "stream",
     "text": [
      "[warn] tabula failed on page 62: Command '['/usr/libexec/java_home']' returned non-zero exit status 1.\n",
      "[Page 62] 4 images found\n",
      "  → 0.2% of page\n",
      "  → 0.97% of page\n",
      "  → 18.85% of page\n",
      "  → 18.85% of page\n",
      "🗑️ Skipped small image on page 62: 0.2% of page\n",
      "🗑️ Skipped small image on page 62: 0.97% of page\n"
     ]
    },
    {
     "name": "stderr",
     "output_type": "stream",
     "text": [
      "The operation couldn’t be completed. Unable to locate a Java Runtime.\n",
      "Please visit http://www.java.com for information on installing Java.\n",
      "\n"
     ]
    },
    {
     "name": "stdout",
     "output_type": "stream",
     "text": [
      "[warn] tabula failed on page 63: Command '['/usr/libexec/java_home']' returned non-zero exit status 1.\n"
     ]
    },
    {
     "name": "stderr",
     "output_type": "stream",
     "text": [
      "Processing pages:  76%|███████▌  | 64/84 [00:44<00:15,  1.33it/s]"
     ]
    },
    {
     "name": "stdout",
     "output_type": "stream",
     "text": [
      "[Page 63] 2 images found\n",
      "  → 0.97% of page\n",
      "  → 0.2% of page\n",
      "🗑️ Skipped small image on page 63: 0.97% of page\n",
      "🗑️ Skipped small image on page 63: 0.2% of page\n"
     ]
    },
    {
     "name": "stderr",
     "output_type": "stream",
     "text": [
      "The operation couldn’t be completed. Unable to locate a Java Runtime.\n",
      "Please visit http://www.java.com for information on installing Java.\n",
      "\n"
     ]
    },
    {
     "name": "stdout",
     "output_type": "stream",
     "text": [
      "[warn] tabula failed on page 64: Command '['/usr/libexec/java_home']' returned non-zero exit status 1.\n",
      "[Page 64] 4 images found\n",
      "  → 0.2% of page\n",
      "  → 0.97% of page\n",
      "  → 20.32% of page\n",
      "  → 20.32% of page\n"
     ]
    },
    {
     "name": "stderr",
     "output_type": "stream",
     "text": [
      "Processing pages:  77%|███████▋  | 65/84 [00:45<00:14,  1.34it/s]"
     ]
    },
    {
     "name": "stdout",
     "output_type": "stream",
     "text": [
      "✅ Detected composite diagram on page 64 covering 40.64%\n"
     ]
    },
    {
     "name": "stderr",
     "output_type": "stream",
     "text": [
      "The operation couldn’t be completed. Unable to locate a Java Runtime.\n",
      "Please visit http://www.java.com for information on installing Java.\n",
      "\n"
     ]
    },
    {
     "name": "stdout",
     "output_type": "stream",
     "text": [
      "[warn] tabula failed on page 65: Command '['/usr/libexec/java_home']' returned non-zero exit status 1.\n",
      "[Page 65] 5 images found\n",
      "  → 0.97% of page\n",
      "  → 0.2% of page\n",
      "  → 20.12% of page\n",
      "  → 20.12% of page\n",
      "  → 20.1% of page\n"
     ]
    },
    {
     "name": "stderr",
     "output_type": "stream",
     "text": [
      "Processing pages:  79%|███████▊  | 66/84 [00:46<00:13,  1.37it/s]"
     ]
    },
    {
     "name": "stdout",
     "output_type": "stream",
     "text": [
      "✅ Detected composite diagram on page 65 covering 60.34%\n"
     ]
    },
    {
     "name": "stderr",
     "output_type": "stream",
     "text": [
      "The operation couldn’t be completed. Unable to locate a Java Runtime.\n",
      "Please visit http://www.java.com for information on installing Java.\n",
      "\n"
     ]
    },
    {
     "name": "stdout",
     "output_type": "stream",
     "text": [
      "[warn] tabula failed on page 66: Command '['/usr/libexec/java_home']' returned non-zero exit status 1.\n",
      "[Page 66] 5 images found\n",
      "  → 0.2% of page\n",
      "  → 0.97% of page\n",
      "  → 19.32% of page\n",
      "  → 19.32% of page\n",
      "  → 19.31% of page\n"
     ]
    },
    {
     "name": "stderr",
     "output_type": "stream",
     "text": [
      "Processing pages:  80%|███████▉  | 67/84 [00:46<00:12,  1.39it/s]"
     ]
    },
    {
     "name": "stdout",
     "output_type": "stream",
     "text": [
      "✅ Detected composite diagram on page 66 covering 57.95%\n"
     ]
    },
    {
     "name": "stderr",
     "output_type": "stream",
     "text": [
      "The operation couldn’t be completed. Unable to locate a Java Runtime.\n",
      "Please visit http://www.java.com for information on installing Java.\n",
      "\n"
     ]
    },
    {
     "name": "stdout",
     "output_type": "stream",
     "text": [
      "[warn] tabula failed on page 67: Command '['/usr/libexec/java_home']' returned non-zero exit status 1.\n",
      "[Page 67] 2 images found\n",
      "  → 0.97% of page\n",
      "  → 0.2% of page\n"
     ]
    },
    {
     "name": "stderr",
     "output_type": "stream",
     "text": [
      "Processing pages:  81%|████████  | 68/84 [00:47<00:11,  1.35it/s]"
     ]
    },
    {
     "name": "stdout",
     "output_type": "stream",
     "text": [
      "🗑️ Skipped small image on page 67: 0.97% of page\n",
      "🗑️ Skipped small image on page 67: 0.2% of page\n"
     ]
    },
    {
     "name": "stderr",
     "output_type": "stream",
     "text": [
      "The operation couldn’t be completed. Unable to locate a Java Runtime.\n",
      "Please visit http://www.java.com for information on installing Java.\n",
      "\n"
     ]
    },
    {
     "name": "stdout",
     "output_type": "stream",
     "text": [
      "[warn] tabula failed on page 68: Command '['/usr/libexec/java_home']' returned non-zero exit status 1.\n"
     ]
    },
    {
     "name": "stderr",
     "output_type": "stream",
     "text": [
      "Processing pages:  82%|████████▏ | 69/84 [00:48<00:11,  1.33it/s]"
     ]
    },
    {
     "name": "stdout",
     "output_type": "stream",
     "text": [
      "[Page 68] 2 images found\n",
      "  → 0.2% of page\n",
      "  → 0.97% of page\n",
      "🗑️ Skipped small image on page 68: 0.2% of page\n",
      "🗑️ Skipped small image on page 68: 0.97% of page\n"
     ]
    },
    {
     "name": "stderr",
     "output_type": "stream",
     "text": [
      "The operation couldn’t be completed. Unable to locate a Java Runtime.\n",
      "Please visit http://www.java.com for information on installing Java.\n",
      "\n",
      "Processing pages:  83%|████████▎ | 70/84 [00:49<00:10,  1.38it/s]"
     ]
    },
    {
     "name": "stdout",
     "output_type": "stream",
     "text": [
      "[warn] tabula failed on page 69: Command '['/usr/libexec/java_home']' returned non-zero exit status 1.\n",
      "[Page 69] 5 images found\n",
      "  → 0.97% of page\n",
      "  → 0.2% of page\n",
      "  → 20.89% of page\n",
      "  → 20.89% of page\n",
      "  → 20.88% of page\n",
      "✅ Detected composite diagram on page 69 covering 62.67%\n"
     ]
    },
    {
     "name": "stderr",
     "output_type": "stream",
     "text": [
      "The operation couldn’t be completed. Unable to locate a Java Runtime.\n",
      "Please visit http://www.java.com for information on installing Java.\n",
      "\n",
      "Processing pages:  85%|████████▍ | 71/84 [00:49<00:09,  1.42it/s]"
     ]
    },
    {
     "name": "stdout",
     "output_type": "stream",
     "text": [
      "[warn] tabula failed on page 70: Command '['/usr/libexec/java_home']' returned non-zero exit status 1.\n",
      "[Page 70] 5 images found\n",
      "  → 0.2% of page\n",
      "  → 0.97% of page\n",
      "  → 20.39% of page\n",
      "  → 20.39% of page\n",
      "  → 20.37% of page\n",
      "✅ Detected composite diagram on page 70 covering 61.14%\n"
     ]
    },
    {
     "name": "stderr",
     "output_type": "stream",
     "text": [
      "The operation couldn’t be completed. Unable to locate a Java Runtime.\n",
      "Please visit http://www.java.com for information on installing Java.\n",
      "\n"
     ]
    },
    {
     "name": "stdout",
     "output_type": "stream",
     "text": [
      "[warn] tabula failed on page 71: Command '['/usr/libexec/java_home']' returned non-zero exit status 1.\n",
      "[Page 71] 2 images found\n",
      "  → 0.97% of page\n",
      "  → 0.2% of page\n"
     ]
    },
    {
     "name": "stderr",
     "output_type": "stream",
     "text": [
      "Processing pages:  86%|████████▌ | 72/84 [00:50<00:08,  1.38it/s]"
     ]
    },
    {
     "name": "stdout",
     "output_type": "stream",
     "text": [
      "🗑️ Skipped small image on page 71: 0.97% of page\n",
      "🗑️ Skipped small image on page 71: 0.2% of page\n"
     ]
    },
    {
     "name": "stderr",
     "output_type": "stream",
     "text": [
      "The operation couldn’t be completed. Unable to locate a Java Runtime.\n",
      "Please visit http://www.java.com for information on installing Java.\n",
      "\n",
      "Processing pages:  87%|████████▋ | 73/84 [00:51<00:07,  1.49it/s]"
     ]
    },
    {
     "name": "stdout",
     "output_type": "stream",
     "text": [
      "[warn] tabula failed on page 72: Command '['/usr/libexec/java_home']' returned non-zero exit status 1.\n",
      "[Page 72] 2 images found\n",
      "  → 0.2% of page\n",
      "  → 0.97% of page\n",
      "🗑️ Skipped small image on page 72: 0.2% of page\n",
      "🗑️ Skipped small image on page 72: 0.97% of page\n"
     ]
    },
    {
     "name": "stderr",
     "output_type": "stream",
     "text": [
      "The operation couldn’t be completed. Unable to locate a Java Runtime.\n",
      "Please visit http://www.java.com for information on installing Java.\n",
      "\n"
     ]
    },
    {
     "name": "stdout",
     "output_type": "stream",
     "text": [
      "[warn] tabula failed on page 73: Command '['/usr/libexec/java_home']' returned non-zero exit status 1.\n",
      "[Page 73] 5 images found\n",
      "  → 0.97% of page\n",
      "  → 0.2% of page\n",
      "  → 19.93% of page\n",
      "  → 19.93% of page\n",
      "  → 19.92% of page\n"
     ]
    },
    {
     "name": "stderr",
     "output_type": "stream",
     "text": [
      "Processing pages:  88%|████████▊ | 74/84 [00:51<00:06,  1.48it/s]"
     ]
    },
    {
     "name": "stdout",
     "output_type": "stream",
     "text": [
      "✅ Detected composite diagram on page 73 covering 59.79%\n"
     ]
    },
    {
     "name": "stderr",
     "output_type": "stream",
     "text": [
      "The operation couldn’t be completed. Unable to locate a Java Runtime.\n",
      "Please visit http://www.java.com for information on installing Java.\n",
      "\n",
      "Processing pages:  89%|████████▉ | 75/84 [00:52<00:06,  1.42it/s]"
     ]
    },
    {
     "name": "stdout",
     "output_type": "stream",
     "text": [
      "[warn] tabula failed on page 74: Command '['/usr/libexec/java_home']' returned non-zero exit status 1.\n",
      "[Page 74] 5 images found\n",
      "  → 0.2% of page\n",
      "  → 0.97% of page\n",
      "  → 19.95% of page\n",
      "  → 19.95% of page\n",
      "  → 19.95% of page\n",
      "✅ Detected composite diagram on page 74 covering 59.85%\n"
     ]
    },
    {
     "name": "stderr",
     "output_type": "stream",
     "text": [
      "The operation couldn’t be completed. Unable to locate a Java Runtime.\n",
      "Please visit http://www.java.com for information on installing Java.\n",
      "\n"
     ]
    },
    {
     "name": "stdout",
     "output_type": "stream",
     "text": [
      "[warn] tabula failed on page 75: Command '['/usr/libexec/java_home']' returned non-zero exit status 1.\n",
      "[Page 75] 2 images found\n",
      "  → 0.97% of page\n",
      "  → 0.2% of page\n"
     ]
    },
    {
     "name": "stderr",
     "output_type": "stream",
     "text": [
      "Processing pages:  90%|█████████ | 76/84 [00:53<00:05,  1.38it/s]"
     ]
    },
    {
     "name": "stdout",
     "output_type": "stream",
     "text": [
      "🗑️ Skipped small image on page 75: 0.97% of page\n",
      "🗑️ Skipped small image on page 75: 0.2% of page\n"
     ]
    },
    {
     "name": "stderr",
     "output_type": "stream",
     "text": [
      "The operation couldn’t be completed. Unable to locate a Java Runtime.\n",
      "Please visit http://www.java.com for information on installing Java.\n",
      "\n",
      "Processing pages:  92%|█████████▏| 77/84 [00:53<00:04,  1.42it/s]"
     ]
    },
    {
     "name": "stdout",
     "output_type": "stream",
     "text": [
      "[warn] tabula failed on page 76: Command '['/usr/libexec/java_home']' returned non-zero exit status 1.\n",
      "[Page 76] 5 images found\n",
      "  → 0.2% of page\n",
      "  → 0.97% of page\n",
      "  → 20.13% of page\n",
      "  → 20.13% of page\n",
      "  → 20.13% of page\n",
      "✅ Detected composite diagram on page 76 covering 60.38%\n"
     ]
    },
    {
     "name": "stderr",
     "output_type": "stream",
     "text": [
      "The operation couldn’t be completed. Unable to locate a Java Runtime.\n",
      "Please visit http://www.java.com for information on installing Java.\n",
      "\n",
      "Processing pages:  93%|█████████▎| 78/84 [00:54<00:04,  1.46it/s]"
     ]
    },
    {
     "name": "stdout",
     "output_type": "stream",
     "text": [
      "[warn] tabula failed on page 77: Command '['/usr/libexec/java_home']' returned non-zero exit status 1.\n",
      "[Page 77] 3 images found\n",
      "  → 0.97% of page\n",
      "  → 0.2% of page\n",
      "  → 18.75% of page\n",
      "🗑️ Skipped small image on page 77: 0.97% of page\n",
      "🗑️ Skipped small image on page 77: 0.2% of page\n"
     ]
    },
    {
     "name": "stderr",
     "output_type": "stream",
     "text": [
      "The operation couldn’t be completed. Unable to locate a Java Runtime.\n",
      "Please visit http://www.java.com for information on installing Java.\n",
      "\n"
     ]
    },
    {
     "name": "stdout",
     "output_type": "stream",
     "text": [
      "[warn] tabula failed on page 78: Command '['/usr/libexec/java_home']' returned non-zero exit status 1.\n",
      "[Page 78] 5 images found\n",
      "  → 0.2% of page\n",
      "  → 0.97% of page\n",
      "  → 23.71% of page\n",
      "  → 15.71% of page\n",
      "  → 15.71% of page\n"
     ]
    },
    {
     "name": "stderr",
     "output_type": "stream",
     "text": [
      "Processing pages:  94%|█████████▍| 79/84 [00:55<00:03,  1.41it/s]"
     ]
    },
    {
     "name": "stdout",
     "output_type": "stream",
     "text": [
      "✅ Detected composite diagram on page 78 covering 55.13%\n"
     ]
    },
    {
     "name": "stderr",
     "output_type": "stream",
     "text": [
      "The operation couldn’t be completed. Unable to locate a Java Runtime.\n",
      "Please visit http://www.java.com for information on installing Java.\n",
      "\n",
      "Processing pages:  95%|█████████▌| 80/84 [00:56<00:02,  1.45it/s]"
     ]
    },
    {
     "name": "stdout",
     "output_type": "stream",
     "text": [
      "[warn] tabula failed on page 79: Command '['/usr/libexec/java_home']' returned non-zero exit status 1.\n",
      "[Page 79] 2 images found\n",
      "  → 0.97% of page\n",
      "  → 0.2% of page\n",
      "🗑️ Skipped small image on page 79: 0.97% of page\n",
      "🗑️ Skipped small image on page 79: 0.2% of page\n"
     ]
    },
    {
     "name": "stderr",
     "output_type": "stream",
     "text": [
      "The operation couldn’t be completed. Unable to locate a Java Runtime.\n",
      "Please visit http://www.java.com for information on installing Java.\n",
      "\n",
      "Processing pages:  96%|█████████▋| 81/84 [00:56<00:01,  1.51it/s]"
     ]
    },
    {
     "name": "stdout",
     "output_type": "stream",
     "text": [
      "[warn] tabula failed on page 80: Command '['/usr/libexec/java_home']' returned non-zero exit status 1.\n",
      "[Page 80] 3 images found\n",
      "  → 0.2% of page\n",
      "  → 0.97% of page\n",
      "  → 0.16% of page\n",
      "🗑️ Skipped small image on page 80: 0.2% of page\n",
      "🗑️ Skipped small image on page 80: 0.97% of page\n",
      "🗑️ Skipped small image on page 80: 0.16% of page\n"
     ]
    },
    {
     "name": "stderr",
     "output_type": "stream",
     "text": [
      "The operation couldn’t be completed. Unable to locate a Java Runtime.\n",
      "Please visit http://www.java.com for information on installing Java.\n",
      "\n",
      "Processing pages:  98%|█████████▊| 82/84 [00:57<00:01,  1.54it/s]"
     ]
    },
    {
     "name": "stdout",
     "output_type": "stream",
     "text": [
      "[warn] tabula failed on page 81: Command '['/usr/libexec/java_home']' returned non-zero exit status 1.\n",
      "[Page 81] 2 images found\n",
      "  → 0.97% of page\n",
      "  → 0.2% of page\n",
      "🗑️ Skipped small image on page 81: 0.97% of page\n",
      "🗑️ Skipped small image on page 81: 0.2% of page\n"
     ]
    },
    {
     "name": "stderr",
     "output_type": "stream",
     "text": [
      "The operation couldn’t be completed. Unable to locate a Java Runtime.\n",
      "Please visit http://www.java.com for information on installing Java.\n",
      "\n",
      "Processing pages:  99%|█████████▉| 83/84 [00:57<00:00,  1.62it/s]"
     ]
    },
    {
     "name": "stdout",
     "output_type": "stream",
     "text": [
      "[warn] tabula failed on page 82: Command '['/usr/libexec/java_home']' returned non-zero exit status 1.\n",
      "[Page 82] 3 images found\n",
      "  → 0.2% of page\n",
      "  → 0.97% of page\n",
      "  → 35.03% of page\n",
      "🗑️ Skipped small image on page 82: 0.2% of page\n",
      "🗑️ Skipped small image on page 82: 0.97% of page\n"
     ]
    },
    {
     "name": "stderr",
     "output_type": "stream",
     "text": [
      "The operation couldn’t be completed. Unable to locate a Java Runtime.\n",
      "Please visit http://www.java.com for information on installing Java.\n",
      "\n",
      "Processing pages: 100%|██████████| 84/84 [00:58<00:00,  1.44it/s]"
     ]
    },
    {
     "name": "stdout",
     "output_type": "stream",
     "text": [
      "[warn] tabula failed on page 83: Command '['/usr/libexec/java_home']' returned non-zero exit status 1.\n",
      "[Page 83] 3 images found\n",
      "  → 0.97% of page\n",
      "  → 0.2% of page\n",
      "  → 35.15% of page\n",
      "🗑️ Skipped small image on page 83: 0.97% of page\n",
      "🗑️ Skipped small image on page 83: 0.2% of page\n",
      "\n",
      "🧾 Pages with full-page diagrams:\n",
      "[56, 57, 60, 61, 64, 65, 66, 69, 70, 73, 74, 76, 78]\n",
      "✅ finished – extracted 530 items\n",
      "\n",
      "[Sample text] OPERATION AND\n",
      "MAINTENANCE MANUAL\n",
      "\n",
      "\n",
      "\n",
      "\n",
      "\n",
      "           Bench Lathe\n",
      "    Art. T999/230V – T999/230V3A\n",
      "    Art. T999/400V - T999/400V3Afervi.com\n",
      "\n",
      "\n",
      "\n",
      "\n",
      "               TRANSLATION OF THE ORIGINAL INSTRUCTIONS\n",
      "[Sample image] data/images/doc2_img_0_0_515.png\n"
     ]
    },
    {
     "name": "stderr",
     "output_type": "stream",
     "text": [
      "\n"
     ]
    }
   ],
   "source": [
    "\n",
    "# ---------------- RUN ----------------\n",
    "items = extract_pdf(PDF_PATH)\n",
    "\n",
    "# quick sanity prints\n",
    "first_text  = next(i for i in items if i[\"type\"] == \"text\")\n",
    "first_image = next(i for i in items if i[\"type\"] == \"image\" or i[\"type\"] == \"page\")\n",
    "print(\"\\n[Sample text]\", first_text[\"text\"][:200])\n",
    "print(\"[Sample image]\", first_image[\"path\"])\n"
   ]
  },
  {
   "cell_type": "code",
   "execution_count": 18,
   "metadata": {},
   "outputs": [],
   "source": [
    "# !pip install --upgrade openai tqdm  pillow  # pillow only for quick mime-type sniffing\n",
    "from pathlib import Path\n",
    "import base64, mimetypes, uuid, os, time\n",
    "from tqdm import tqdm\n",
    "\n",
    "import openai                     # v1.14+\n",
    "from langchain_openai import OpenAIEmbeddings\n",
    "from pinecone import Pinecone\n",
    "\n",
    "openai.api_key      = os.getenv(\"OPENAI_API_KEY\")\n",
    "PINECONE_API_KEY    = os.getenv(\"PINECONE_API_KEY\")\n",
    "\n",
    "# ── embedding & chat models (adjust if your account differs) ────────────\n",
    "EMBED_MODEL = \"text-embedding-3-large\"    # 1536-D, GPT-4 family\n",
    "CHAT_MODEL  = \"gpt-4o-mini\"               # vision-capable\n",
    "\n",
    "embeddings = OpenAIEmbeddings(model=EMBED_MODEL)\n",
    "\n",
    "PINECONE_API_KEY = os.getenv(\"PINECONE_API_KEY\")  # keep this\n",
    "\n",
    "pc = Pinecone(api_key=PINECONE_API_KEY)\n",
    "index_name = \"multimodal-manual\"\n",
    "\n",
    "if index_name not in pc.list_indexes().names():\n",
    "    pc.create_index(\n",
    "        name=index_name,\n",
    "        dimension=1536,  # or embeddings.embedding_dimension\n",
    "        metric=\"cosine\",\n",
    "        spec=ServerlessSpec(cloud=\"aws\", region=\"us-east-1\")\n",
    "    )\n",
    "\n",
    "index = pc.Index(index_name)\n"
   ]
  },
  {
   "cell_type": "code",
   "execution_count": 19,
   "metadata": {},
   "outputs": [],
   "source": [
    "def img_to_data_uri(path: Path) -> str:\n",
    "    mime, _ = mimetypes.guess_type(path)\n",
    "    b64 = base64.b64encode(path.read_bytes()).decode()\n",
    "    return f\"data:{mime or 'image/png'};base64,{b64}\"\n",
    "\n",
    "def caption_image(path: Path, retry: int = 3) -> str:\n",
    "    \"\"\"Return a single-sentence literal caption for the image.\"\"\"\n",
    "    data_uri = img_to_data_uri(path)\n",
    "    for attempt in range(retry):\n",
    "        try:\n",
    "            resp = openai.chat.completions.create(\n",
    "                model=CHAT_MODEL,\n",
    "                messages=[{\n",
    "                    \"role\": \"user\",\n",
    "                    \"content\": [\n",
    "                        {\"type\": \"text\",\n",
    "                         \"text\": (\n",
    "                                \"This image is from a machine user manual. \"\n",
    "                                \"Describe it concisely and literally — mention if it shows components, diagrams, labels, or numbered callouts. \"\n",
    "                                \"Avoid assumptions or interpretations — just describe what you visually see in the image.\"\n",
    "                            )},\n",
    "                        {\"type\": \"image_url\", \"image_url\": {\"url\": data_uri}}\n",
    "                    ]\n",
    "                }],\n",
    "                max_tokens=60\n",
    "            )\n",
    "            return resp.choices[0].message.content.strip()\n",
    "        except openai.RateLimitError:\n",
    "            wait = 2 ** attempt\n",
    "            print(f\"rate-limited, retrying in {wait}s\"); time.sleep(wait)\n",
    "    return \"unavailable caption\"\n"
   ]
  },
  {
   "cell_type": "code",
   "execution_count": 20,
   "metadata": {},
   "outputs": [],
   "source": [
    "import json\n",
    "\n",
    "caption_cache_file = \"captions_cache.json\"\n",
    "caption_cache = {}\n",
    "\n",
    "# Load existing cache if present\n",
    "if Path(caption_cache_file).exists():\n",
    "    caption_cache = json.loads(Path(caption_cache_file).read_text())\n",
    "\n",
    "def caption_image_cached(path: Path) -> str:\n",
    "    key = str(path)\n",
    "    if key in caption_cache:\n",
    "        return caption_cache[key]\n",
    "    caption = caption_image(path) \n",
    "    print(\"Caption:\", caption) # your existing GPT-4 captioner\n",
    "    caption_cache[key] = caption\n",
    "    Path(caption_cache_file).write_text(json.dumps(caption_cache, indent=2))\n",
    "    return caption\n"
   ]
  },
  {
   "cell_type": "code",
   "execution_count": 21,
   "metadata": {},
   "outputs": [
    {
     "name": "stderr",
     "output_type": "stream",
     "text": [
      "Preparing docs + metadata: 100%|██████████| 530/530 [00:05<00:00, 93.74it/s] \n"
     ]
    }
   ],
   "source": [
    "docs, meta, ids = [], [], []\n",
    "\n",
    "# 🧾 Build a quick index of text chunks by page\n",
    "text_by_page = {\n",
    "    obj[\"page\"]: obj[\"text\"].strip()\n",
    "    for obj in items if obj[\"type\"] == \"text\" and obj[\"text\"].strip()\n",
    "}\n",
    "\n",
    "# Prepare logs for captions and skipped pages\n",
    "captioned_pages = []\n",
    "skipped_pages = []\n",
    "\n",
    "for obj in tqdm(items, desc=\"Preparing docs + metadata\"):\n",
    "    # ---------------- TEXT & SECTION ----------------\n",
    "    if obj[\"type\"] == \"text\":\n",
    "        section  = obj.get(\"section\", \"\").strip()\n",
    "        chunk    = tag_special_chunks(obj[\"text\"])\n",
    "        text_repr = f\"[SECTION] {section}\\n{chunk}\" if section else chunk\n",
    "\n",
    "        keywords = [tok.lemma_ for tok in nlp(text_repr)\n",
    "                    if tok.pos_ in {\"NOUN\",\"PROPN\"}]\n",
    "\n",
    "        docs.append(text_repr)\n",
    "        meta.append({**obj, \"keywords\": keywords})\n",
    "        ids.append(str(uuid.uuid4()))\n",
    "\n",
    "    # ---------------- TABLE  (row-level) ------------\n",
    "    elif obj[\"type\"] == \"table\":\n",
    "        rows = obj[\"text\"].splitlines()\n",
    "        if not rows:\n",
    "            continue\n",
    "\n",
    "        # Try to parse header row from first line\n",
    "        header_fields = [col.strip() for col in rows[0].split(\" | \")]\n",
    "\n",
    "        for row in rows[1:]:\n",
    "            cells = [col.strip() for col in row.split(\" | \")]\n",
    "            if not any(cells):\n",
    "                continue\n",
    "\n",
    "            # Align columns if possible\n",
    "            if len(cells) == len(header_fields):\n",
    "                structured = \" | \".join(f\"{h}: {v}\" for h, v in zip(header_fields, cells))\n",
    "            else:\n",
    "                structured = row  # fallback to raw\n",
    "\n",
    "            text_repr = f\"[TABLE ROW] {structured}\"\n",
    "\n",
    "            # optional: extract keywords for filtering\n",
    "            keywords = [tok.lemma_ for tok in nlp(text_repr) if tok.pos_ in {\"NOUN\", \"PROPN\"}]\n",
    "\n",
    "            docs.append(text_repr)\n",
    "            meta.append({**obj, \"keywords\": keywords})\n",
    "            ids.append(str(uuid.uuid4()))\n",
    "\n",
    "\n",
    "    # ---------------- IMAGE & PAGE ------------------\n",
    "    elif obj[\"type\"] in {\"image\", \"page\"}:\n",
    "        caption  = obj.get(\"caption\") or obj.get(\"caption_title\",\"\")\n",
    "        related  = obj.get(\"related_text\",\"\").strip()\n",
    "        prefix   = \"[PAGE IMAGE]\" if obj[\"type\"]==\"page\" else \"[IMAGE]\"\n",
    "        text_repr = f\"{prefix} {caption}\\n{related}\" if related else f\"{prefix} {caption}\"\n",
    "\n",
    "        keywords = [tok.lemma_ for tok in nlp(text_repr)\n",
    "                    if tok.pos_ in {\"NOUN\",\"PROPN\"}]\n",
    "\n",
    "        docs.append(text_repr)\n",
    "        meta.append({**obj, \"keywords\": keywords})\n",
    "        ids.append(str(uuid.uuid4()))\n",
    "\n"
   ]
  },
  {
   "cell_type": "code",
   "execution_count": 22,
   "metadata": {},
   "outputs": [
    {
     "name": "stdout",
     "output_type": "stream",
     "text": [
      "📄 Page 52 Caption: [CAPTION]\n"
     ]
    }
   ],
   "source": [
    "# Look for the page 52 image\n",
    "for doc in items:\n",
    "    if doc[\"type\"] in {\"image\", \"page\"} and doc[\"page\"] == 52:\n",
    "        print(\"📄 Page 52 Caption:\", doc[\"text\"])\n"
   ]
  },
  {
   "cell_type": "code",
   "execution_count": 23,
   "metadata": {},
   "outputs": [
    {
     "name": "stdout",
     "output_type": "stream",
     "text": [
      "Total page-image items: 13\n",
      "Pages with captions: []\n"
     ]
    }
   ],
   "source": [
    "# 1. How many 'page' items do we have at all?\n",
    "page_items = [obj for obj in items if obj[\"type\"] == \"page\"]\n",
    "print(\"Total page-image items:\", len(page_items))\n",
    "\n",
    "# 2. Which of them have a non-empty caption?\n",
    "captioned = [\n",
    "    obj for obj in page_items\n",
    "    if obj[\"text\"].strip() and \"[PAGE IMAGE]\" in obj[\"text\"] and \"unavailable caption\" not in obj[\"text\"]\n",
    "]\n",
    "print(\"Pages with captions:\", [obj[\"page\"] for obj in captioned])\n",
    "\n",
    "# 3. Peek at one caption\n",
    "if captioned:\n",
    "    sample = captioned[0]\n",
    "    print(f\"\\nPage {sample['page']} caption →\", sample[\"text\"])\n"
   ]
  },
  {
   "cell_type": "code",
   "execution_count": 24,
   "metadata": {},
   "outputs": [
    {
     "name": "stderr",
     "output_type": "stream",
     "text": [
      "Embedding: 100%|██████████| 8/8 [00:12<00:00,  1.52s/it]\n"
     ]
    }
   ],
   "source": [
    "\n",
    "# ── embed in batches ───────────────────────────────────────────\n",
    "batch = 100\n",
    "vectors = []\n",
    "for i in tqdm(range(0, len(docs), batch), desc=\"Embedding\"):\n",
    "    vecs = embeddings.embed_documents(docs[i:i+batch])\n",
    "    vectors.extend(vecs)\n"
   ]
  },
  {
   "cell_type": "code",
   "execution_count": 25,
   "metadata": {},
   "outputs": [],
   "source": [
    "to_upsert = [\n",
    "    (\n",
    "        ids[i],\n",
    "        vectors[i],\n",
    "        {**meta[i], \"text\": docs[i]}          # ensure \"text\" key exists\n",
    "    )\n",
    "    for i in range(len(docs))\n",
    "]"
   ]
  },
  {
   "cell_type": "code",
   "execution_count": 26,
   "metadata": {},
   "outputs": [
    {
     "name": "stdout",
     "output_type": "stream",
     "text": [
      "📤  Upserting to Pinecone …\n"
     ]
    },
    {
     "name": "stderr",
     "output_type": "stream",
     "text": [
      "100%|██████████| 706/706 [00:22<00:00, 31.49it/s]\n"
     ]
    },
    {
     "name": "stdout",
     "output_type": "stream",
     "text": [
      "\n",
      "✅  Done!  Pinecone now holds:\n",
      "   • vectors : 1441\n",
      "   • dim      : 3072\n"
     ]
    }
   ],
   "source": [
    "pc = Pinecone(api_key=os.getenv(\"PINECONE_API_KEY\"))\n",
    "index = pc.Index(\"multimodal-manual\")          # ← already created with dim=3072\n",
    "\n",
    "def payload_size(batch):\n",
    "    return len(json.dumps(batch).encode())\n",
    "\n",
    "MAX_PAYLOAD = 3_000_000        # ≈3 MB (well under 4 MB limit)\n",
    "batch = []\n",
    "\n",
    "print(\"📤  Upserting to Pinecone …\")\n",
    "\n",
    "for tup in tqdm(to_upsert):\n",
    "    batch.append(tup)\n",
    "    if payload_size(batch) >= MAX_PAYLOAD:\n",
    "        index.upsert(batch, namespace=\"v1\")\n",
    "        batch = []\n",
    "\n",
    "# any leftovers\n",
    "if batch:\n",
    "    index.upsert(batch, namespace=\"v1\")\n",
    "\n",
    "# ------------------------------------------------------------\n",
    "# 4 · VERIFY\n",
    "# ------------------------------------------------------------\n",
    "stats = index.describe_index_stats(namespace=\"v1\")\n",
    "print(\"\\n✅  Done!  Pinecone now holds:\")\n",
    "print(f\"   • vectors : {stats['namespaces']['v1']['vector_count']}\")\n",
    "print(f\"   • dim      : {stats['dimension']}\")"
   ]
  },
  {
   "cell_type": "code",
   "execution_count": 27,
   "metadata": {},
   "outputs": [],
   "source": [
    "from collections import Counter\n",
    "\n",
    "def extract_table_keywords(meta, limit=20):\n",
    "    keyword_counts = Counter()\n",
    "\n",
    "    for m in meta:\n",
    "        if m.get(\"type\") == \"table\":\n",
    "            keyword_counts.update(m.get(\"keywords\", []))\n",
    "\n",
    "    top_keywords = [kw for kw, _ in keyword_counts.most_common(limit)]\n",
    "    return top_keywords\n"
   ]
  },
  {
   "cell_type": "code",
   "execution_count": 29,
   "metadata": {},
   "outputs": [
    {
     "name": "stderr",
     "output_type": "stream",
     "text": [
      "/var/folders/qw/rynbsm9n3yvb9l_bjh7rchgh0000gn/T/ipykernel_59312/1920176902.py:24: LangChainDeprecationWarning: Please see the migration guide at: https://python.langchain.com/docs/versions/migrating_memory/\n",
      "  memory = ConversationBufferMemory(\n"
     ]
    }
   ],
   "source": [
    "from langchain_pinecone import PineconeVectorStore\n",
    "from langchain_openai import ChatOpenAI\n",
    "from langchain.chains import ConversationalRetrievalChain\n",
    "from langchain.memory import ConversationBufferMemory\n",
    "from IPython.display import display, Image\n",
    "from pathlib import Path\n",
    "\n",
    "\n",
    "# Vector store\n",
    "vectorstore = PineconeVectorStore(\n",
    "    index=index,\n",
    "    embedding=embeddings,\n",
    "    namespace=\"v1\",\n",
    "    text_key=\"text\"\n",
    ")\n",
    "\n",
    "# Retriever\n",
    "retriever = vectorstore.as_retriever(search_kwargs={\"k\": 5})\n",
    "\n",
    "# LLM\n",
    "llm = ChatOpenAI(model_name=\"gpt-4o\", temperature=0.2)\n",
    "\n",
    "# Memory\n",
    "memory = ConversationBufferMemory(\n",
    "    memory_key=\"chat_history\",\n",
    "    return_messages=True,\n",
    "    output_key=\"answer\"  # ✅ Tells memory what to store\n",
    ")\n",
    "\n",
    "# RAG Chain with output key fix\n",
    "chat_rag = ConversationalRetrievalChain.from_llm(\n",
    "    llm=llm,\n",
    "    retriever=retriever,\n",
    "    memory=memory,\n",
    "    return_source_documents=True,\n",
    "    output_key=\"answer\"\n",
    ")\n",
    "\n"
   ]
  },
  {
   "cell_type": "code",
   "execution_count": 30,
   "metadata": {},
   "outputs": [],
   "source": [
    "def ask(query):\n",
    "    def is_table_query(q):\n",
    "        # Add more generic patterns here as needed\n",
    "        table_keywords = extract_table_keywords(meta)\n",
    "        # print(f\"Table Keywords {table_keywords}\")\n",
    "        return any(kw in q.lower() for kw in table_keywords)\n",
    "\n",
    "    # 1. Run table-prioritized retrieval if query looks structured\n",
    "    table_mode = is_table_query(query)\n",
    "    if table_mode:\n",
    "        all_docs = retriever.get_relevant_documents(query)\n",
    "        table_docs = [doc for doc in all_docs if doc.metadata.get(\"type\") == \"table\"]\n",
    "        source_docs = table_docs[:5] if table_docs else all_docs[:5]\n",
    "\n",
    "    else:\n",
    "        res = chat_rag.invoke({\"question\": query})\n",
    "        source_docs = res[\"source_documents\"]\n",
    "\n",
    "    # 2. If not using the RAG chain (manual filtered docs), rerun LLM\n",
    "    if \"source_docs\" in locals() and isinstance(source_docs, list) and \"res\" not in locals():\n",
    "        content_blob = \"\\n\\n\".join(doc.page_content for doc in source_docs)\n",
    "        system_prompt = \"You are answering from a technical manual. Prioritize structured information when available, especially from tables.\"\n",
    "        res = llm.invoke([\n",
    "            {\"role\": \"system\", \"content\": system_prompt},\n",
    "            {\"role\": \"user\", \"content\": f\"{query}\\n\\nRelevant context:\\n{content_blob}\"}\n",
    "        ])\n",
    "        res = {\"answer\": res.content, \"source_documents\": source_docs}\n",
    "\n",
    "    # 3. Display any image or diagram found\n",
    "    top_image_path = None\n",
    "    top_image_doc  = None\n",
    "    for doc in res[\"source_documents\"]:\n",
    "        doc_type = doc.metadata.get(\"type\")\n",
    "        path     = doc.metadata.get(\"path\")\n",
    "        if doc_type in {\"image\", \"page\"} and Path(path).suffix in {\".png\", \".jpg\", \".jpeg\"}:\n",
    "            top_image_path = path\n",
    "            top_image_doc  = doc\n",
    "            break\n",
    "\n",
    "    if top_image_path:\n",
    "        print(\"\\n🖼️  You can refer to the following diagram:\")\n",
    "        print(f\"• {top_image_doc.metadata.get('type')} → {top_image_path} (page {top_image_doc.metadata.get('page')})\")\n",
    "        try:\n",
    "            display(Image(filename=top_image_path, width=400))\n",
    "        except Exception as e:\n",
    "            print(f\"[!] Failed to display image: {e}\")\n",
    "\n",
    "    # 4. Print response and sources\n",
    "    print(f\"\\n🧑: {query}\")\n",
    "    print(f\"🤖: {res['answer']}\")\n",
    "\n",
    "    print(\"\\n--- Sources ---\")\n",
    "    for doc in res[\"source_documents\"]:\n",
    "        print(f\"• {doc.metadata.get('type')} → {doc.metadata.get('path')} (page {doc.metadata.get('page')})\")\n"
   ]
  },
  {
   "cell_type": "code",
   "execution_count": null,
   "metadata": {},
   "outputs": [],
   "source": [
    "# from numpy import mean\n",
    "# import numpy as np\n",
    "\n",
    "# def get_type_centroids():\n",
    "#     type_vectors = {\"text\": [], \"table\": [], \"image\": [], \"page\": []}\n",
    "\n",
    "#     for i, doc_meta in enumerate(meta):\n",
    "#         doc_type = doc_meta.get(\"type\")\n",
    "#         if doc_type in type_vectors:\n",
    "#             type_vectors[doc_type].append(vectors[i])\n",
    "\n",
    "#     # Compute centroids (mean vector per type)\n",
    "#     centroids = {\n",
    "#         t: np.mean(vecs, axis=0)\n",
    "#         for t, vecs in type_vectors.items()\n",
    "#         if vecs\n",
    "#     }\n",
    "\n",
    "#     # Merge image/page\n",
    "#     if \"image\" in centroids and \"page\" in centroids:\n",
    "#         centroids[\"visual\"] = np.mean([centroids[\"image\"], centroids[\"page\"]], axis=0)\n",
    "#     return centroids\n"
   ]
  },
  {
   "cell_type": "code",
   "execution_count": null,
   "metadata": {},
   "outputs": [],
   "source": [
    "# centroids = get_type_centroids()"
   ]
  },
  {
   "cell_type": "code",
   "execution_count": null,
   "metadata": {},
   "outputs": [],
   "source": [
    "# from numpy.linalg import norm\n",
    "\n",
    "# def cosine_similarity(a, b):\n",
    "#     return np.dot(a, b) / (norm(a) * norm(b))\n",
    "\n",
    "# def get_best_content_type(query, centroids):\n",
    "#     query_vec = embeddings.embed_query(query)\n",
    "#     scores = {\n",
    "#         t: cosine_similarity(query_vec, vec)\n",
    "#         for t, vec in centroids.items()\n",
    "#     }\n",
    "#     best = max(scores.items(), key=lambda x: x[1])\n",
    "#     return best[0]  # e.g., 'table', 'text', 'visual'\n"
   ]
  },
  {
   "cell_type": "code",
   "execution_count": null,
   "metadata": {},
   "outputs": [],
   "source": [
    "\n",
    "# def ask(query):\n",
    "#     def is_table_query(q):\n",
    "#         # Add more generic patterns here as needed\n",
    "#         table_keywords = extract_table_keywords(meta)\n",
    "#         # print(f\"Table Keywords {table_keywords}\")\n",
    "#         return any(kw in q.lower() for kw in table_keywords)\n",
    "\n",
    "#     # 1. Run table-prioritized retrieval if query looks structured\n",
    "#     # Dynamically choose best content type\n",
    "#     content_type = get_best_content_type(query, centroids)\n",
    "\n",
    "#     all_docs = retriever.get_relevant_documents(query)\n",
    "\n",
    "#     if content_type == \"table\":\n",
    "#         selected_docs = [doc for doc in all_docs if doc.metadata.get(\"type\") == \"table\"]\n",
    "#     elif content_type == \"visual\":\n",
    "#         selected_docs = [doc for doc in all_docs if doc.metadata.get(\"type\") in {\"image\", \"page\"}]\n",
    "#     else:\n",
    "#         selected_docs = all_docs  # no filter for \"text\"\n",
    "\n",
    "#     source_docs = selected_docs[:5] if selected_docs else all_docs[:5]\n",
    "\n",
    "#     # Only call LLM if not already using RAG chain\n",
    "#     res = llm.invoke([\n",
    "#         {\"role\": \"system\", \"content\": (\n",
    "#             \"You are answering based on a machine user manual. \"\n",
    "#             \"Use any relevant tables, diagrams, or images. Respond literally and precisely.\"\n",
    "#         )},\n",
    "#         {\"role\": \"user\", \"content\": (\n",
    "#             f\"{query}\\n\\nRelevant context:\\n\" +\n",
    "#             \"\\n\\n\".join(doc.page_content for doc in source_docs)\n",
    "#         )}\n",
    "#     ])\n",
    "#     res = {\"answer\": res.content.strip(), \"source_documents\": source_docs}\n",
    "\n",
    "\n",
    "#     # 2. If not using the RAG chain (manual filtered docs), rerun LLM\n",
    "#     # 2. If not using the RAG chain (manual filtered docs), rerun LLM with explicit diagram hint\n",
    "#     if \"source_docs\" in locals() and isinstance(source_docs, list) and \"res\" not in locals():\n",
    "#         content_blob = \"\\n\\n\".join(doc.page_content for doc in source_docs)\n",
    "        \n",
    "#         # Check if any diagram or image is retrieved\n",
    "#         image_pages = [\n",
    "#             doc.metadata.get(\"page\")\n",
    "#             for doc in source_docs\n",
    "#             if doc.metadata.get(\"type\") in {\"image\", \"page\"}\n",
    "#         ]\n",
    "        \n",
    "#         if image_pages:\n",
    "#             page_hint = f\"An image or diagram from page {image_pages[0]} is currently displayed in the interface and may be helpful.\"\n",
    "#         else:\n",
    "#             page_hint = \"\"\n",
    "\n",
    "#         # System prompt\n",
    "#         system_prompt = (\n",
    "#             \"You are a technical assistant answering from a machine user manual. \"\n",
    "#             \"Use relevant context and retrieved diagrams or tables when available. \"\n",
    "#             \"Be literal, specific, and do not say you 'cannot provide diagrams' — the image may already be visible to the user.\"\n",
    "#         )\n",
    "\n",
    "#         res = llm.invoke([\n",
    "#             {\"role\": \"system\", \"content\": system_prompt},\n",
    "#             {\"role\": \"user\", \"content\": f\"{query}\\n\\n{page_hint}\\n\\nRelevant context:\\n{content_blob}\"}\n",
    "#         ])\n",
    "        \n",
    "#         res = {\"answer\": res.content.strip(), \"source_documents\": source_docs}\n",
    "\n",
    "\n",
    "#     # 3. Display any image or diagram found\n",
    "#     top_image_path = None\n",
    "#     top_image_doc  = None\n",
    "#     for doc in res[\"source_documents\"]:\n",
    "#         doc_type = doc.metadata.get(\"type\")\n",
    "#         path     = doc.metadata.get(\"path\")\n",
    "#         if doc_type in {\"image\", \"page\"} and Path(path).suffix in {\".png\", \".jpg\", \".jpeg\"}:\n",
    "#             top_image_path = path\n",
    "#             top_image_doc  = doc\n",
    "#             break\n",
    "\n",
    "#     if top_image_path:\n",
    "#         print(\"\\n🖼️  You can refer to the following diagram:\")\n",
    "#         print(f\"• {top_image_doc.metadata.get('type')} → {top_image_path} (page {top_image_doc.metadata.get('page')})\")\n",
    "#         try:\n",
    "#             display(Image(filename=top_image_path, width=400))\n",
    "#         except Exception as e:\n",
    "#             print(f\"[!] Failed to display image: {e}\")\n",
    "\n",
    "#     # 4. Print response and sources\n",
    "#     print(f\"\\n🧑: {query}\")\n",
    "#     print(f\"🤖: {res['answer']}\")\n",
    "\n",
    "#     print(\"\\n--- Sources ---\")\n",
    "#     for doc in res[\"source_documents\"]:\n",
    "#         print(f\"• {doc.metadata.get('type')} → {doc.metadata.get('path')} (page {doc.metadata.get('page')})\")\n"
   ]
  },
  {
   "cell_type": "markdown",
   "metadata": {},
   "source": [
    "During machine levelling, what part of the machine should the spirit level be placed on to check rail alignment?\n"
   ]
  },
  {
   "cell_type": "code",
   "execution_count": 31,
   "metadata": {},
   "outputs": [
    {
     "name": "stdout",
     "output_type": "stream",
     "text": [
      "\n",
      "🧑: During machine levelling, what part of the machine should the spirit level be placed on to check rail alignment?\n",
      "🤖: The spirit level should be placed on the sides of the carriage to check the rail alignment during machine levelling.\n",
      "\n",
      "--- Sources ---\n",
      "• text → data/text/doc2_text_25_0.txt (page 25.0)\n",
      "• text → data/text/doc2_text_25_0.txt (page 25.0)\n",
      "• text → data/text/doc2_text_25_2.txt (page 25.0)\n",
      "• text → data/text/doc2_text_25_1.txt (page 25.0)\n",
      "• text → data/text/doc2_text_25_2.txt (page 25.0)\n"
     ]
    }
   ],
   "source": [
    "ask(\"During machine levelling, what part of the machine should the spirit level be placed on to check rail alignment?\")"
   ]
  },
  {
   "cell_type": "code",
   "execution_count": 32,
   "metadata": {},
   "outputs": [
    {
     "name": "stdout",
     "output_type": "stream",
     "text": [
      "\n",
      "🧑: Can you provide step-by-step instructions for performing maintenance on the Fervi machine?\n",
      "🤖: I don't have specific step-by-step instructions for performing maintenance on the Fervi machine. However, I can provide some general guidelines based on the provided context:\n",
      "\n",
      "1. **Check Efficiency and Integrity**: Always begin by checking the efficiency and integrity of the machine to ensure it is in good working condition.\n",
      "\n",
      "2. **Inspect Rotating Parts**: Before connecting the machine to the mains, inspect the rotating parts for any damage or wear. Ensure the switch is in the neutral position.\n",
      "\n",
      "3. **Ensure Proper Environment**: Do not start the machine in enclosed or poorly ventilated areas, or in the presence of flammable or explosive atmospheres. Avoid using the machine in damp or wet locations.\n",
      "\n",
      "4. **Avoid Accidental Starts**: Take precautions to avoid accidental starting of the machine.\n",
      "\n",
      "5. **Remove Maintenance Keys**: Before starting the machine, ensure that no maintenance or service keys are left inserted.\n",
      "\n",
      "6. **Disconnect Power**: Always disconnect the power plug before performing any cleaning or maintenance.\n",
      "\n",
      "7. **Qualified Personnel**: Ensure that only trained and qualified personnel perform maintenance, following the procedures specified in the manual.\n",
      "\n",
      "8. **Lighting Conditions**: Perform maintenance operations in well-lit conditions to ensure visibility.\n",
      "\n",
      "For detailed maintenance procedures, it is best to refer to the specific manual for the Fervi machine or consult with a qualified technician.\n",
      "\n",
      "--- Sources ---\n",
      "• text → data/text/doc2_text_4_3.txt (page 4.0)\n",
      "• text → data/text/doc2_text_4_3.txt (page 4.0)\n",
      "• text → data/text/doc2_text_6_5.txt (page 6.0)\n",
      "• text → data/text/doc2_text_6_5.txt (page 6.0)\n",
      "• text → data/text/doc2_text_22_0.txt (page 22.0)\n"
     ]
    }
   ],
   "source": [
    "ask(\"Can you provide step-by-step instructions for performing maintenance on the Fervi machine?\")"
   ]
  },
  {
   "cell_type": "code",
   "execution_count": null,
   "metadata": {},
   "outputs": [],
   "source": []
  }
 ],
 "metadata": {
  "kernelspec": {
   "display_name": "Python 3",
   "language": "python",
   "name": "python3"
  },
  "language_info": {
   "codemirror_mode": {
    "name": "ipython",
    "version": 3
   },
   "file_extension": ".py",
   "mimetype": "text/x-python",
   "name": "python",
   "nbconvert_exporter": "python",
   "pygments_lexer": "ipython3",
   "version": "3.13.2"
  }
 },
 "nbformat": 4,
 "nbformat_minor": 2
}
